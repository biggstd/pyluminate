{
 "cells": [
  {
   "cell_type": "code",
   "execution_count": 5,
   "metadata": {
    "collapsed": true
   },
   "outputs": [],
   "source": [
    "import pandas as pd\n",
    "import json"
   ]
  },
  {
   "cell_type": "code",
   "execution_count": 55,
   "metadata": {},
   "outputs": [],
   "source": [
    "def read_maximme(json_metadata_path):\n",
    "    \"\"\"Construct dataframes with the needed metadata attached.\"\"\"\n",
    "    # Read the metadata json file constructed by ISASetup.py\n",
    "    with open(json_metadata_path, 'r') as f:\n",
    "        metadata = json.load(f)\n",
    "    # create a dataframes for each csv found\n",
    "    data_path_list = []\n",
    "    for studies in metadata['studies']:\n",
    "        for assays in studies['assays']:\n",
    "            for char in assays['characteristicCategories']:\n",
    "                if char['characteristicType']['annotationValue'] == 'Simulated RDF':\n",
    "#                     print('\\n')\n",
    "                    for data_file in assays['dataFiles']:\n",
    "                        data_path_list.append(data_file['name'])\n",
    "#                     print(assays['dataFiles'])\n",
    "#             for characteristic in \n",
    "#                 print(\"found\")  [:]['characteristicType']['annotationValue']\n",
    "            \n",
    "#             for filename in assay['dataFiles']:\n",
    "#                 data = pd.read_csv(filename['name'])\n",
    "#                 data['doi'] = doi\n",
    "#                 dataFrame_list.append(data)\n",
    "    return data_path_list#pd.concat(dataFrame_list, ignore_index=True)"
   ]
  },
  {
   "cell_type": "code",
   "execution_count": 56,
   "metadata": {},
   "outputs": [
    {
     "data": {
      "text/plain": [
       "['data/d1.rdf', 'data/d2.rdf', 'data/d3.rdf', 'data/d4.rdf']"
      ]
     },
     "execution_count": 56,
     "metadata": {},
     "output_type": "execute_result"
    }
   ],
   "source": [
    "read_maximme('data/nmr_metadata.json')"
   ]
  },
  {
   "cell_type": "code",
   "execution_count": null,
   "metadata": {
    "collapsed": true
   },
   "outputs": [],
   "source": []
  }
 ],
 "metadata": {
  "kernelspec": {
   "display_name": "Python 3",
   "language": "python",
   "name": "python3"
  },
  "language_info": {
   "codemirror_mode": {
    "name": "ipython",
    "version": 3
   },
   "file_extension": ".py",
   "mimetype": "text/x-python",
   "name": "python",
   "nbconvert_exporter": "python",
   "pygments_lexer": "ipython3",
   "version": "3.6.1"
  }
 },
 "nbformat": 4,
 "nbformat_minor": 2
}
