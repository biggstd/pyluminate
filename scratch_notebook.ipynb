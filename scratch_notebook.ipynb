{
 "cells": [
  {
   "cell_type": "code",
   "execution_count": 13,
   "metadata": {
    "collapsed": true
   },
   "outputs": [],
   "source": [
    "import pandas as pd\n",
    "import numpy as np\n",
    "import json\n",
    "import os\n",
    "import bokeh\n",
    "from bokeh.io import output_notebook, output_file, save\n",
    "from bokeh.palettes import Colorblind\n",
    "from bokeh.models import HoverTool, ColumnDataSource\n",
    "import bokeh.plotting as bk"
   ]
  },
  {
   "cell_type": "code",
   "execution_count": 2,
   "metadata": {},
   "outputs": [
    {
     "data": {
      "text/html": [
       "\n",
       "    <div class=\"bk-root\">\n",
       "        <a href=\"http://bokeh.pydata.org\" target=\"_blank\" class=\"bk-logo bk-logo-small bk-logo-notebook\"></a>\n",
       "        <span id=\"aa249ccf-5d87-4459-a1b8-d68ee7064aad\">Loading BokehJS ...</span>\n",
       "    </div>"
      ]
     },
     "metadata": {},
     "output_type": "display_data"
    },
    {
     "data": {
      "application/javascript": [
       "\n",
       "(function(global) {\n",
       "  function now() {\n",
       "    return new Date();\n",
       "  }\n",
       "\n",
       "  var force = true;\n",
       "\n",
       "  if (typeof (window._bokeh_onload_callbacks) === \"undefined\" || force === true) {\n",
       "    window._bokeh_onload_callbacks = [];\n",
       "    window._bokeh_is_loading = undefined;\n",
       "  }\n",
       "\n",
       "\n",
       "  \n",
       "  if (typeof (window._bokeh_timeout) === \"undefined\" || force === true) {\n",
       "    window._bokeh_timeout = Date.now() + 5000;\n",
       "    window._bokeh_failed_load = false;\n",
       "  }\n",
       "\n",
       "  var NB_LOAD_WARNING = {'data': {'text/html':\n",
       "     \"<div style='background-color: #fdd'>\\n\"+\n",
       "     \"<p>\\n\"+\n",
       "     \"BokehJS does not appear to have successfully loaded. If loading BokehJS from CDN, this \\n\"+\n",
       "     \"may be due to a slow or bad network connection. Possible fixes:\\n\"+\n",
       "     \"</p>\\n\"+\n",
       "     \"<ul>\\n\"+\n",
       "     \"<li>re-rerun `output_notebook()` to attempt to load from CDN again, or</li>\\n\"+\n",
       "     \"<li>use INLINE resources instead, as so:</li>\\n\"+\n",
       "     \"</ul>\\n\"+\n",
       "     \"<code>\\n\"+\n",
       "     \"from bokeh.resources import INLINE\\n\"+\n",
       "     \"output_notebook(resources=INLINE)\\n\"+\n",
       "     \"</code>\\n\"+\n",
       "     \"</div>\"}};\n",
       "\n",
       "  function display_loaded() {\n",
       "    if (window.Bokeh !== undefined) {\n",
       "      var el = document.getElementById(\"aa249ccf-5d87-4459-a1b8-d68ee7064aad\");\n",
       "      el.textContent = \"BokehJS \" + Bokeh.version + \" successfully loaded.\";\n",
       "    } else if (Date.now() < window._bokeh_timeout) {\n",
       "      setTimeout(display_loaded, 100)\n",
       "    }\n",
       "  }\n",
       "\n",
       "  function run_callbacks() {\n",
       "    try {\n",
       "      window._bokeh_onload_callbacks.forEach(function(callback) { callback() });\n",
       "    }\n",
       "    finally {\n",
       "      delete window._bokeh_onload_callbacks\n",
       "    }\n",
       "    console.info(\"Bokeh: all callbacks have finished\");\n",
       "  }\n",
       "\n",
       "  function load_libs(js_urls, callback) {\n",
       "    window._bokeh_onload_callbacks.push(callback);\n",
       "    if (window._bokeh_is_loading > 0) {\n",
       "      console.log(\"Bokeh: BokehJS is being loaded, scheduling callback at\", now());\n",
       "      return null;\n",
       "    }\n",
       "    if (js_urls == null || js_urls.length === 0) {\n",
       "      run_callbacks();\n",
       "      return null;\n",
       "    }\n",
       "    console.log(\"Bokeh: BokehJS not loaded, scheduling load and callback at\", now());\n",
       "    window._bokeh_is_loading = js_urls.length;\n",
       "    for (var i = 0; i < js_urls.length; i++) {\n",
       "      var url = js_urls[i];\n",
       "      var s = document.createElement('script');\n",
       "      s.src = url;\n",
       "      s.async = false;\n",
       "      s.onreadystatechange = s.onload = function() {\n",
       "        window._bokeh_is_loading--;\n",
       "        if (window._bokeh_is_loading === 0) {\n",
       "          console.log(\"Bokeh: all BokehJS libraries loaded\");\n",
       "          run_callbacks()\n",
       "        }\n",
       "      };\n",
       "      s.onerror = function() {\n",
       "        console.warn(\"failed to load library \" + url);\n",
       "      };\n",
       "      console.log(\"Bokeh: injecting script tag for BokehJS library: \", url);\n",
       "      document.getElementsByTagName(\"head\")[0].appendChild(s);\n",
       "    }\n",
       "  };var element = document.getElementById(\"aa249ccf-5d87-4459-a1b8-d68ee7064aad\");\n",
       "  if (element == null) {\n",
       "    console.log(\"Bokeh: ERROR: autoload.js configured with elementid 'aa249ccf-5d87-4459-a1b8-d68ee7064aad' but no matching script tag was found. \")\n",
       "    return false;\n",
       "  }\n",
       "\n",
       "  var js_urls = [\"https://cdn.pydata.org/bokeh/release/bokeh-0.12.6.min.js\", \"https://cdn.pydata.org/bokeh/release/bokeh-widgets-0.12.6.min.js\"];\n",
       "\n",
       "  var inline_js = [\n",
       "    function(Bokeh) {\n",
       "      Bokeh.set_log_level(\"info\");\n",
       "    },\n",
       "    \n",
       "    function(Bokeh) {\n",
       "      \n",
       "    },\n",
       "    \n",
       "    function(Bokeh) {\n",
       "      \n",
       "      document.getElementById(\"aa249ccf-5d87-4459-a1b8-d68ee7064aad\").textContent = \"BokehJS is loading...\";\n",
       "    },\n",
       "    function(Bokeh) {\n",
       "      console.log(\"Bokeh: injecting CSS: https://cdn.pydata.org/bokeh/release/bokeh-0.12.6.min.css\");\n",
       "      Bokeh.embed.inject_css(\"https://cdn.pydata.org/bokeh/release/bokeh-0.12.6.min.css\");\n",
       "      console.log(\"Bokeh: injecting CSS: https://cdn.pydata.org/bokeh/release/bokeh-widgets-0.12.6.min.css\");\n",
       "      Bokeh.embed.inject_css(\"https://cdn.pydata.org/bokeh/release/bokeh-widgets-0.12.6.min.css\");\n",
       "    }\n",
       "  ];\n",
       "\n",
       "  function run_inline_js() {\n",
       "    \n",
       "    if ((window.Bokeh !== undefined) || (force === true)) {\n",
       "      for (var i = 0; i < inline_js.length; i++) {\n",
       "        inline_js[i](window.Bokeh);\n",
       "      }if (force === true) {\n",
       "        display_loaded();\n",
       "      }} else if (Date.now() < window._bokeh_timeout) {\n",
       "      setTimeout(run_inline_js, 100);\n",
       "    } else if (!window._bokeh_failed_load) {\n",
       "      console.log(\"Bokeh: BokehJS failed to load within specified timeout.\");\n",
       "      window._bokeh_failed_load = true;\n",
       "    } else if (force !== true) {\n",
       "      var cell = $(document.getElementById(\"aa249ccf-5d87-4459-a1b8-d68ee7064aad\")).parents('.cell').data().cell;\n",
       "      cell.output_area.append_execute_result(NB_LOAD_WARNING)\n",
       "    }\n",
       "\n",
       "  }\n",
       "\n",
       "  if (window._bokeh_is_loading === 0) {\n",
       "    console.log(\"Bokeh: BokehJS loaded, going straight to plotting\");\n",
       "    run_inline_js();\n",
       "  } else {\n",
       "    load_libs(js_urls, function() {\n",
       "      console.log(\"Bokeh: BokehJS plotting callback run at\", now());\n",
       "      run_inline_js();\n",
       "    });\n",
       "  }\n",
       "}(this));"
      ]
     },
     "metadata": {},
     "output_type": "display_data"
    }
   ],
   "source": [
    "output_notebook()\n",
    "# output_file('alNaoh.png')"
   ]
  },
  {
   "cell_type": "code",
   "execution_count": 3,
   "metadata": {
    "collapsed": true
   },
   "outputs": [],
   "source": [
    "def create_dataframes(json_metadata_path):\n",
    "    \"\"\"Construct dataframes with the needed metadata attached.\"\"\"\n",
    "    # Read the metadata json file constructed by ISASetup.py\n",
    "    with open(json_metadata_path, 'r') as f:\n",
    "        metadata = json.load(f)\n",
    "    # create a dataframes for each csv found\n",
    "    dataFrame_list = []\n",
    "    for study in metadata['studies']:\n",
    "        # Store the doi/link\n",
    "        for publication in study['publications']:\n",
    "            doi = publication['doi']\n",
    "        for assay in study['assays']:\n",
    "            for filename in assay['dataFiles']:\n",
    "                df = pd.read_csv(filename['name'])\n",
    "                df['doi'] = doi\n",
    "                dataFrame_list.append(df)\n",
    "    return pd.concat(dataFrame_list, ignore_index=True)"
   ]
  },
  {
   "cell_type": "code",
   "execution_count": 4,
   "metadata": {},
   "outputs": [
    {
     "data": {
      "text/plain": [
       "Index(['Al_concentration', 'Al_ppm', 'CI_concentration', 'OH_concentration',\n",
       "       'counter_ion', 'doi', 'temperature', 'wavelength'],\n",
       "      dtype='object')"
      ]
     },
     "execution_count": 4,
     "metadata": {},
     "output_type": "execute_result"
    }
   ],
   "source": [
    "data = create_dataframes('data/nmr_metadata.json')\n",
    "data.keys()"
   ]
  },
  {
   "cell_type": "code",
   "execution_count": 5,
   "metadata": {},
   "outputs": [
    {
     "data": {
      "text/plain": [
       "Al_concentration    float64\n",
       "Al_ppm              float64\n",
       "CI_concentration    float64\n",
       "OH_concentration    float64\n",
       "counter_ion          object\n",
       "doi                  object\n",
       "temperature           int64\n",
       "wavelength          float64\n",
       "dtype: object"
      ]
     },
     "execution_count": 5,
     "metadata": {},
     "output_type": "execute_result"
    }
   ],
   "source": [
    "data.dtypes"
   ]
  },
  {
   "cell_type": "code",
   "execution_count": 6,
   "metadata": {},
   "outputs": [
    {
     "data": {
      "text/plain": [
       "(array([0, 0, 0, 0, 0, 0, 0, 0, 0, 0, 0, 0, 0, 0, 0, 0, 0, 0, 0, 0, 0, 0, 0,\n",
       "        0, 0, 0, 0, 0, 0, 0, 0, 0, 0, 0, 0, 0, 0, 0, 0, 0, 0, 0, 0, 0, 0, 0,\n",
       "        0, 0, 0, 0, 0, 0, 0, 0, 0, 0, 0, 0, 0, 0, 0, 0, 0, 0, 0, 0, 0, 0, 0,\n",
       "        0, 0, 0, 0, 0, 0, 0, 0, 0, 0, 0, 0, 0, 0, 0, 0, 0, 0, 0, 0, 0, 0, 0,\n",
       "        1, 1, 1, 1, 1, 0, 0, 0, 0, 0, 0, 0, 0, 0, 0, 0, 0, 2, 2, 2, 2, 2, 2,\n",
       "        2, 2, 2, 3, 3, 3, 3, 3, 3, 0, 0, 0, 0, 0, 0, 0, 0, 0, 0, 0, 0, 0, 0,\n",
       "        0, 0, 0, 0, 0, 0, 0, 0, 1, 1, 1, 1, 1, 1, 1, 1, 1, 1]),\n",
       " Index(['Na+', 'Cs+', 'Li+', 'K+'], dtype='object'))"
      ]
     },
     "execution_count": 6,
     "metadata": {},
     "output_type": "execute_result"
    }
   ],
   "source": [
    "data['counter_ion'].factorize()"
   ]
  },
  {
   "cell_type": "code",
   "execution_count": 7,
   "metadata": {},
   "outputs": [
    {
     "data": {
      "text/plain": [
       "Al_concentration    float64\n",
       "Al_ppm              float64\n",
       "CI_concentration    float64\n",
       "OH_concentration    float64\n",
       "counter_ion          object\n",
       "doi                  object\n",
       "temperature           int64\n",
       "wavelength          float64\n",
       "dtype: object"
      ]
     },
     "execution_count": 7,
     "metadata": {},
     "output_type": "execute_result"
    }
   ],
   "source": [
    "data.dtypes"
   ]
  },
  {
   "cell_type": "code",
   "execution_count": 8,
   "metadata": {},
   "outputs": [],
   "source": [
    "columns = sorted(data.columns)\n",
    "discrete = [x for x in columns if data[x].dtype == object]\n",
    "continuous = [x for x in columns if x not in discrete]\n",
    "quantileable = [x for x in continuous if len(data[x].unique()) > 20]"
   ]
  },
  {
   "cell_type": "code",
   "execution_count": 9,
   "metadata": {},
   "outputs": [
    {
     "data": {
      "text/plain": [
       "['#0072B2', '#E69F00', '#F0E442', '#009E73']"
      ]
     },
     "execution_count": 9,
     "metadata": {},
     "output_type": "execute_result"
    }
   ],
   "source": [
    "SIZES = list(range(6, 22, 3))\n",
    "COLORS = Colorblind[4]\n",
    "COLORS"
   ]
  },
  {
   "cell_type": "code",
   "execution_count": 10,
   "metadata": {},
   "outputs": [
    {
     "data": {
      "text/plain": [
       "(array([0, 0, 0, 0, 0, 0, 0, 0, 0, 0, 0, 0, 0, 0, 0, 0, 0, 0, 0, 0, 0, 0, 0,\n",
       "        0, 0, 0, 0, 0, 0, 0, 0, 0, 0, 0, 0, 0, 0, 0, 0, 0, 0, 0, 0, 0, 0, 0,\n",
       "        0, 0, 0, 0, 0, 0, 0, 0, 0, 0, 0, 0, 0, 0, 0, 0, 0, 0, 0, 0, 0, 0, 0,\n",
       "        0, 0, 0, 0, 0, 0, 0, 0, 0, 0, 0, 0, 0, 0, 0, 0, 0, 0, 0, 0, 0, 0, 0,\n",
       "        1, 1, 1, 1, 1, 0, 0, 0, 0, 0, 0, 0, 0, 0, 0, 0, 0, 2, 2, 2, 2, 2, 2,\n",
       "        2, 2, 2, 3, 3, 3, 3, 3, 3, 0, 0, 0, 0, 0, 0, 0, 0, 0, 0, 0, 0, 0, 0,\n",
       "        0, 0, 0, 0, 0, 0, 0, 0, 1, 1, 1, 1, 1, 1, 1, 1, 1, 1]),\n",
       " Index(['Na+', 'Cs+', 'Li+', 'K+'], dtype='object'))"
      ]
     },
     "execution_count": 10,
     "metadata": {},
     "output_type": "execute_result"
    }
   ],
   "source": [
    "data['counter_ion'].factorize()"
   ]
  },
  {
   "cell_type": "code",
   "execution_count": 34,
   "metadata": {
    "scrolled": true
   },
   "outputs": [],
   "source": [
    "colormap = {\n",
    "    'Na+': '#0072B2',\n",
    "    'Li+': '#E69F00',\n",
    "    'K+': '#F0E442',\n",
    "    'Cs+': '#009E73',\n",
    "}\n",
    "data['ion_colors'] = [colormap[x] for x in data['counter_ion']]"
   ]
  },
  {
   "cell_type": "code",
   "execution_count": 35,
   "metadata": {},
   "outputs": [
    {
     "data": {
      "text/html": [
       "<div style=\"display: table;\"><div style=\"display: table-row;\"><div style=\"display: table-cell;\"><b title=\"bokeh.models.sources.ColumnDataSource\">ColumnDataSource</b>(</div><div style=\"display: table-cell;\">id&nbsp;=&nbsp;'759aff1a-fba4-4e3d-ad0b-c280ddae5f06', <span id=\"20575f09-e0ea-4d52-81b6-72bf0aefbb41\" style=\"cursor: pointer;\">&hellip;)</span></div></div><div class=\"8a04f65a-bef4-4fb2-9a83-befcb5a2dcf2\" style=\"display: none;\"><div style=\"display: table-cell;\"></div><div style=\"display: table-cell;\">callback&nbsp;=&nbsp;None,</div></div><div class=\"8a04f65a-bef4-4fb2-9a83-befcb5a2dcf2\" style=\"display: none;\"><div style=\"display: table-cell;\"></div><div style=\"display: table-cell;\">column_names&nbsp;=&nbsp;['counter_ion', 'wavelength', 'ion_colors', 'index', 'temperature', 'doi', 'OH_concentration', 'Al_concentration', 'Al_ppm', 'CI_concentration'],</div></div><div class=\"8a04f65a-bef4-4fb2-9a83-befcb5a2dcf2\" style=\"display: none;\"><div style=\"display: table-cell;\"></div><div style=\"display: table-cell;\">data&nbsp;=&nbsp;{'wavelength': {'__ndarray__': 'AAAAAABYg0AAAAAAAFyDQAAAAAAAXINAAAAAAABcg0AAAAAAAGCDQAAAAAAAbINAAAAAAABsg0AAAAAAAFyDQAAAAAAAZINAAAAAAABkg0AAAAAAAGyDQAAAAAAAbINAAAAAAABsg0AAAAAAAGyDQAAAAAAAbINAAAAAAAAA+H8AAAAAAAD4fwAAAAAAAPh/AAAAAAAA+H8AAAAAAAD4fwAAAAAAAPh/AAAAAAAA+H8AAAAAAAD4fwAAAAAAAPh/AAAAAAAA+H8AAAAAAAD4fwAAAAAAAPh/AAAAAAAA+H8AAAAAAAD4fwAAAAAAAPh/AAAAAAAA+H8AAAAAAAD4fwAAAAAAAPh/AAAAAAAA+H8AAAAAAAD4fwAAAAAAAPh/AAAAAAAA+H8AAAAAAAD4fwAAAAAAAPh/AAAAAAAA+H8AAAAAAAD4fwAAAAAAAPh/AAAAAAAA+H8AAAAAAAD4fwAAAAAAAPh/AAAAAAAA+H8AAAAAAAD4fwAAAAAAAPh/AAAAAAAA+H8AAAAAAAD4fwAAAAAAAPh/AAAAAAAA+H8AAAAAAAD4fwAAAAAAAPh/AAAAAAAA+H8AAAAAAAD4fwAAAAAAAPh/AAAAAAAA+H8AAAAAAAD4fwAAAAAAAPh/AAAAAAAA+H8AAAAAAAD4fwAAAAAAAPh/AAAAAAAA+H8AAAAAAAD4fwAAAAAAAPh/AAAAAAAA+H8AAAAAAAD4fwAAAAAAAPh/AAAAAAAA+H8AAAAAAAD4fwAAAAAAAPh/AAAAAAAA+H8AAAAAAAD4fwAAAAAAAPh/AAAAAAAA+H8AAAAAAAD4fwAAAAAAAPh/AAAAAAAA+H8AAAAAAAD4fwAAAAAAAPh/AAAAAAAA+H8AAAAAAAD4fwAAAAAAAPh/AAAAAAAA+H8AAAAAAAD4fwAAAAAAAPh/AAAAAAAA+H8AAAAAAAD4fwAAAAAAAPh/AAAAAAAA+H8AAAAAAAD4fwAAAAAAAPh/AAAAAAAA+H8AAAAAAAD4fwAAAAAAAPh/AAAAAAAA+H+amZmZmdWFQJqZmZmZZYNAmpmZmZm5gEDNzMzMzMiFQJqZmZmZZYNAAAAAAAC4gEAAAAAAANyFQJqZmZmZZYNAMzMzMzO7gEBmZmZmZt6FQJqZmZmZZYNAzczMzMy4gEAAAAAAAAD4fwAAAAAAAPh/AAAAAAAA+H8AAAAAAAD4fwAAAAAAAPh/AAAAAAAA+H8AAAAAAAD4fwAAAAAAAPh/AAAAAAAA+H8AAAAAAAD4fwAAAAAAAPh/AAAAAAAA+H8AAAAAAAD4fwAAAAAAAPh/AAAAAAAA+H8AAAAAAAD4fwAAAAAAAPh/AAAAAAAA+H8AAAAAAAD4fwAAAAAAAPh/AAAAAAAA+H8AAAAAAAD4fwAAAAAAAPh/AAAAAAAA+H8AAAAAAAD4fwAAAAAA8IBAAAAAAABYg0AAAAAAAOCFQAAAAAAA+IBAAAAAAABgg0AAAAAAAOCFQAAAAAAA+IBAAAAAAABgg0AAAAAAAOCFQAAAAAAA+IBAAAAAAABog0AAAAAAAOCFQM3MzMzM2IBA4XoUrkdpg0B7FK5H4dCAQFyPwvUoZoNACtejcD3OgEC4HoXrUWSDQK5H4XoUwoBASOF6FK5jg0B7FK5H4cKAQB+F61G4YoNA', 'dtype': 'float64', 'shape': (156,)}, 'counter_ion': ['Na+', 'Na+', 'Na+', 'Na+', 'Na+', 'Na+', 'Na+', 'Na+', 'Na+', 'Na+', 'Na+', 'Na+', 'Na+', 'Na+', 'Na+', 'Na+', 'Na+', 'Na+', 'Na+', 'Na+', 'Na+', 'Na+', 'Na+', 'Na+', 'Na+', 'Na+', 'Na+', 'Na+', 'Na+', 'Na+', 'Na+', 'Na+', 'Na+', 'Na+', 'Na+', 'Na+', 'Na+', 'Na+', 'Na+', 'Na+', 'Na+', 'Na+', 'Na+', 'Na+', 'Na+', 'Na+', 'Na+', 'Na+', 'Na+', 'Na+', 'Na+', 'Na+', 'Na+', 'Na+', 'Na+', 'Na+', 'Na+', 'Na+', 'Na+', 'Na+', 'Na+', 'Na+', 'Na+', 'Na+', 'Na+', 'Na+', 'Na+', 'Na+', 'Na+', 'Na+', 'Na+', 'Na+', 'Na+', 'Na+', 'Na+', 'Na+', 'Na+', 'Na+', 'Na+', 'Na+', 'Na+', 'Na+', 'Na+', 'Na+', 'Na+', 'Na+', 'Na+', 'Na+', 'Na+', 'Na+', 'Na+', 'Na+', 'Cs+', 'Cs+', 'Cs+', 'Cs+', 'Cs+', 'Na+', 'Na+', 'Na+', 'Na+', 'Na+', 'Na+', 'Na+', 'Na+', 'Na+', 'Na+', 'Na+', 'Na+', 'Li+', 'Li+', 'Li+', 'Li+', 'Li+', 'Li+', 'Li+', 'Li+', 'Li+', 'K+', 'K+', 'K+', 'K+', 'K+', 'K+', 'Na+', 'Na+', 'Na+', 'Na+', 'Na+', 'Na+', 'Na+', 'Na+', 'Na+', 'Na+', 'Na+', 'Na+', 'Na+', 'Na+', 'Na+', 'Na+', 'Na+', 'Na+', 'Na+', 'Na+', 'Na+', 'Na+', 'Cs+', 'Cs+', 'Cs+', 'Cs+', 'Cs+', 'Cs+', 'Cs+', 'Cs+', 'Cs+', 'Cs+'], 'ion_colors': ['#0072B2', '#0072B2', '#0072B2', '#0072B2', '#0072B2', '#0072B2', '#0072B2', '#0072B2', '#0072B2', '#0072B2', '#0072B2', '#0072B2', '#0072B2', '#0072B2', '#0072B2', '#0072B2', '#0072B2', '#0072B2', '#0072B2', '#0072B2', '#0072B2', '#0072B2', '#0072B2', '#0072B2', '#0072B2', '#0072B2', '#0072B2', '#0072B2', '#0072B2', '#0072B2', '#0072B2', '#0072B2', '#0072B2', '#0072B2', '#0072B2', '#0072B2', '#0072B2', '#0072B2', '#0072B2', '#0072B2', '#0072B2', '#0072B2', '#0072B2', '#0072B2', '#0072B2', '#0072B2', '#0072B2', '#0072B2', '#0072B2', '#0072B2', '#0072B2', '#0072B2', '#0072B2', '#0072B2', '#0072B2', '#0072B2', '#0072B2', '#0072B2', '#0072B2', '#0072B2', '#0072B2', '#0072B2', '#0072B2', '#0072B2', '#0072B2', '#0072B2', '#0072B2', '#0072B2', '#0072B2', '#0072B2', '#0072B2', '#0072B2', '#0072B2', '#0072B2', '#0072B2', '#0072B2', '#0072B2', '#0072B2', '#0072B2', '#0072B2', '#0072B2', '#0072B2', '#0072B2', '#0072B2', '#0072B2', '#0072B2', '#0072B2', '#0072B2', '#0072B2', '#0072B2', '#0072B2', '#0072B2', '#009E73', '#009E73', '#009E73', '#009E73', '#009E73', '#0072B2', '#0072B2', '#0072B2', '#0072B2', '#0072B2', '#0072B2', '#0072B2', '#0072B2', '#0072B2', '#0072B2', '#0072B2', '#0072B2', '#E69F00', '#E69F00', '#E69F00', '#E69F00', '#E69F00', '#E69F00', '#E69F00', '#E69F00', '#E69F00', '#F0E442', '#F0E442', '#F0E442', '#F0E442', '#F0E442', '#F0E442', '#0072B2', '#0072B2', '#0072B2', '#0072B2', '#0072B2', '#0072B2', '#0072B2', '#0072B2', '#0072B2', '#0072B2', '#0072B2', '#0072B2', '#0072B2', '#0072B2', '#0072B2', '#0072B2', '#0072B2', '#0072B2', '#0072B2', '#0072B2', '#0072B2', '#0072B2', '#009E73', '#009E73', '#009E73', '#009E73', '#009E73', '#009E73', '#009E73', '#009E73', '#009E73', '#009E73'], 'index': [0, 1, 2, 3, 4, 5, 6, 7, 8, 9, 10, 11, 12, 13, 14, 15, 16, 17, 18, 19, 20, 21, 22, 23, 24, 25, 26, 27, 28, 29, 30, 31, 32, 33, 34, 35, 36, 37, 38, 39, 40, 41, 42, 43, 44, 45, 46, 47, 48, 49, 50, 51, 52, 53, 54, 55, 56, 57, 58, 59, 60, 61, 62, 63, 64, 65, 66, 67, 68, 69, 70, 71, 72, 73, 74, 75, 76, 77, 78, 79, 80, 81, 82, 83, 84, 85, 86, 87, 88, 89, 90, 91, 92, 93, 94, 95, 96, 97, 98, 99, 100, 101, 102, 103, 104, 105, 106, 107, 108, 109, 110, 111, 112, 113, 114, 115, 116, 117, 118, 119, 120, 121, 122, 123, 124, 125, 126, 127, 128, 129, 130, 131, 132, 133, 134, 135, 136, 137, 138, 139, 140, 141, 142, 143, 144, 145, 146, 147, 148, 149, 150, 151, 152, 153, 154, 155], 'temperature': [25, 25, 25, 25, 25, 25, 25, 25, 25, 25, 25, 25, 25, 25, 25, 25, 25, 25, 25, 25, 25, 25, 25, 25, 25, 25, 25, 25, 25, 25, 25, 25, 25, 25, 25, 25, 25, 25, 25, 25, 25, 25, 25, 25, 25, 25, 25, 25, 25, 25, 25, 25, 25, 25, 25, 25, 25, 25, 25, 25, 25, 25, 25, 25, 25, 25, 25, 25, 25, 25, 25, 25, 25, 25, 25, 25, 25, 25, 25, 25, 25, 25, 25, 25, 25, 25, 25, 25, 25, 25, 25, 25, 25, 25, 25, 25, 25, 25, 25, 25, 50, 50, 50, 75, 75, 75, 100, 100, 100, 25, 25, 25, 25, 25, 25, 25, 25, 25, 25, 25, 25, 25, 25, 25, 25, 25, 25, 25, 25, 25, 25, 25, 25, 25, 25, 25, 25, 25, 25, 25, 25, 25, 25, 25, 25, 25, 25, 25, 25, 25, 25, 25, 25, 25, 25, 25], 'doi': ['http://collections.mun.ca/cdm/compoundobject/collection/theses2/id/222115/rec/6', 'http://collections.mun.ca/cdm/compoundobject/collection/theses2/id/222115/rec/6', 'http://collections.mun.ca/cdm/compoundobject/collection/theses2/id/222115/rec/6', 'http://collections.mun.ca/cdm/compoundobject/collection/theses2/id/222115/rec/6', 'http://collections.mun.ca/cdm/compoundobject/collection/theses2/id/222115/rec/6', 'http://collections.mun.ca/cdm/compoundobject/collection/theses2/id/222115/rec/6', 'http://collections.mun.ca/cdm/compoundobject/collection/theses2/id/222115/rec/6', 'http://collections.mun.ca/cdm/compoundobject/collection/theses2/id/222115/rec/6', 'http://collections.mun.ca/cdm/compoundobject/collection/theses2/id/222115/rec/6', 'http://collections.mun.ca/cdm/compoundobject/collection/theses2/id/222115/rec/6', 'http://collections.mun.ca/cdm/compoundobject/collection/theses2/id/222115/rec/6', 'http://collections.mun.ca/cdm/compoundobject/collection/theses2/id/222115/rec/6', 'http://collections.mun.ca/cdm/compoundobject/collection/theses2/id/222115/rec/6', 'http://collections.mun.ca/cdm/compoundobject/collection/theses2/id/222115/rec/6', 'http://collections.mun.ca/cdm/compoundobject/collection/theses2/id/222115/rec/6', '10.1016/j.talanta.2006.02.008', '10.1016/j.talanta.2006.02.008', '10.1016/j.talanta.2006.02.008', '10.1016/j.talanta.2006.02.008', '10.1016/j.talanta.2006.02.008', '10.1016/j.talanta.2006.02.008', '10.1016/j.talanta.2006.02.008', '10.1016/j.talanta.2006.02.008', '10.1016/j.talanta.2006.02.008', '10.1016/j.talanta.2006.02.008', '10.1016/j.talanta.2006.02.008', '10.1016/j.talanta.2006.02.008', '10.1016/j.talanta.2006.02.008', '10.1016/j.talanta.2006.02.008', '10.1016/j.talanta.2006.02.008', '10.1016/j.talanta.2006.02.008', '10.1016/j.talanta.2006.02.008', '10.1016/j.talanta.2006.02.008', '10.1016/j.talanta.2006.02.008', '10.1016/j.talanta.2006.02.008', '10.1016/j.talanta.2006.02.008', '10.1016/j.talanta.2006.02.008', '10.1016/j.talanta.2006.02.008', '10.1016/j.talanta.2006.02.008', '10.1016/j.talanta.2006.02.008', '10.1016/j.talanta.2006.02.008', '10.1016/j.talanta.2006.02.008', '10.1016/j.talanta.2006.02.008', '10.1016/j.talanta.2006.02.008', '10.1016/j.talanta.2006.02.008', '10.1016/j.talanta.2006.02.008', '10.1016/j.talanta.2006.02.008', '10.1016/j.talanta.2006.02.008', '10.1016/j.talanta.2006.02.008', '10.1016/j.talanta.2006.02.008', '10.1016/j.talanta.2006.02.008', '10.1016/j.talanta.2006.02.008', '10.1016/j.talanta.2006.02.008', '10.1016/j.talanta.2006.02.008', '10.1016/j.talanta.2006.02.008', '10.1016/j.talanta.2006.02.008', '10.1016/j.talanta.2006.02.008', '10.1016/j.talanta.2006.02.008', '10.1016/j.talanta.2006.02.008', '10.1016/j.talanta.2006.02.008', '10.1016/j.talanta.2006.02.008', '10.1016/j.talanta.2006.02.008', '10.1016/j.talanta.2006.02.008', '10.1016/j.talanta.2006.02.008', '10.1016/j.talanta.2006.02.008', '10.1016/j.talanta.2006.02.008', '10.1016/j.talanta.2006.02.008', '10.1016/j.talanta.2006.02.008', '10.1016/j.talanta.2006.02.008', '10.1016/j.talanta.2006.02.008', '10.1016/j.talanta.2006.02.008', '10.1016/j.talanta.2006.02.008', '10.1016/j.talanta.2006.02.008', '10.1016/j.talanta.2006.02.008', '10.1016/j.talanta.2006.02.008', '10.1016/j.talanta.2006.02.008', '10.1016/j.talanta.2006.02.008', '10.1016/j.talanta.2006.02.008', '10.1016/j.talanta.2006.02.008', '10.1016/j.talanta.2006.02.008', '10.1016/j.talanta.2006.02.008', '10.1016/j.talanta.2006.02.008', '10.1016/j.talanta.2006.02.008', '10.1016/j.talanta.2006.02.008', '10.1016/j.talanta.2006.02.008', '10.1016/j.talanta.2006.02.008', '10.1016/j.talanta.2006.02.008', '10.1016/j.talanta.2006.02.008', '10.1016/j.talanta.2006.02.008', '10.1016/j.talanta.2006.02.008', '10.1016/j.talanta.2006.02.008', '10.1016/j.talanta.2006.02.008', '10.1016/j.talanta.2006.02.008', '10.1016/j.talanta.2006.02.008', '10.1016/j.talanta.2006.02.008', '10.1016/j.talanta.2006.02.008', '10.1016/j.talanta.2006.02.008', '10.1016/j.talanta.2006.02.008', '10.1016/j.talanta.2006.02.008', '10.1016/j.talanta.2006.02.008', '10.1016/j.talanta.2006.02.008', '10.1016/j.talanta.2006.02.008', '10.1016/j.talanta.2006.02.008', '10.1016/j.talanta.2006.02.008', '10.1016/j.talanta.2006.02.008', '10.1016/j.talanta.2006.02.008', '10.1016/j.talanta.2006.02.008', '10.1016/j.talanta.2006.02.008', '10.1016/j.talanta.2006.02.008', '10.1016/j.talanta.2006.02.008', '10.1016/j.talanta.2006.02.008', '10.1016/j.talanta.2006.02.008', '10.1016/j.talanta.2006.02.008', '10.1016/j.talanta.2006.02.008', '10.1016/j.talanta.2006.02.008', '10.1016/j.talanta.2006.02.008', '10.1016/j.talanta.2006.02.008', '10.1016/j.talanta.2006.02.008', '10.1016/j.talanta.2006.02.008', '10.1016/j.talanta.2006.02.008', '10.1016/j.talanta.2006.02.008', '10.1016/j.talanta.2006.02.008', '10.1016/j.talanta.2006.02.008', '10.1016/j.talanta.2006.02.008', '10.1016/j.talanta.2006.02.008', '10.1016/j.talanta.2006.02.008', '10.1016/j.talanta.2006.02.008', '10.1016/j.talanta.2006.02.008', '10.1016/j.talanta.2006.02.008', '10.1016/j.talanta.2006.02.008', '10.1016/j.talanta.2006.02.008', '10.1016/j.talanta.2006.02.008', '10.1016/j.talanta.2006.02.008', '10.1016/j.talanta.2006.02.008', '10.1016/j.talanta.2006.02.008', '10.1016/j.talanta.2006.02.008', '10.1016/j.talanta.2006.02.008', '10.1016/j.talanta.2006.02.008', '10.1016/j.talanta.2006.02.008', '10.1016/j.talanta.2006.02.008', '10.1016/j.talanta.2006.02.008', '10.1016/j.talanta.2006.02.008', '10.1016/j.talanta.2006.02.008', '10.1016/j.talanta.2006.02.008', '10.1016/j.talanta.2006.02.008', '10.1016/j.talanta.2006.02.008', '10.1016/j.talanta.2006.02.008', '10.1016/j.talanta.2006.02.008', '10.1016/j.talanta.2006.02.008', '10.1016/j.talanta.2006.02.008', '10.1016/j.talanta.2006.02.008', '10.1016/j.talanta.2006.02.008', '10.1016/j.talanta.2006.02.008', '10.1016/j.talanta.2006.02.008', '10.1016/j.talanta.2006.02.008', '10.1016/j.talanta.2006.02.008'], 'OH_concentration': {'__ndarray__': 'KVyPwvUoEEB7FK5H4XoYQIXrUbgehR9AuB6F61G4J0AAAAAAAIAuQPYoXI/CtTZAPQrXo3B9PUBmZmZmZmYwQM3MzMzMzDBAMzMzMzPzMUB7FK5H4bo1QNejcD0K1zdA4XoUrkfhOkDD9Shcj8I9QFK4HoXrkT1AAAAAAAAA8D8AAAAAAAAUQAAAAAAAABxAAAAAAAAAJkAAAAAAAAAqQAAAAAAAADFAAAAAAAAAM0DNzMzMzMwCQBSuR+F6FBBAMzMzMzMzIECamZmZmZkjQD0K16NwPSJAUrgehetRJkCuR+F6FK4nQNejcD0KVypAw/UoXI/CK0C4HoXrUbgtQNejcD0K1y9A7FG4HoXrMEBI4XoUrkf5Pylcj8L1KAhAPQrXo3A9EkA9CtejcD0YQFK4HoXr0SFAMzMzMzMzHkBcj8L1KFwlQLgehetROCtAmpmZmZkZLkBcj8L1KNwwQNejcD0K1zFAUrgehetR+D8pXI/C9SgIQM3MzMzMzBFACtejcD0KHkBmZmZmZuYhQGZmZmZm5iRA4XoUrkdhJkCPwvUoXA8rQKRwPQrXIy5A9ihcj8J1MECF61G4HgUyQAAAAAAAAPg/AAAAAAAAEkAfhetRuB4eQIXrUbgeBSJAexSuR+H6JECkcD0K1yMoQI/C9ShcDytA16NwPQpXLkAAAAAAAMAwQClcj8L1KAhAPQrXo3A9E0D2KFyPwvUXQB+F61G4Hh5AZmZmZmbmIUCF61G4HgUlQHsUrkfh+idArkfhehQuKUCPwvUoXA8rQI/C9ShcDy5AUrgeheuRMEApXI/C9SgIQI/C9ShcjxJA9ihcj8L1F0CPwvUoXI8dQI/C9ShcjyFAXI/C9SjcJECPwvUoXI8nQJqZmZmZmSpAmpmZmZkZLUApXI/C9SgTQOF6FK5H4RdAMzMzMzMzHkBmZmZmZuYhQIXrUbgeBSVAexSuR+H6J0CuR+F6FC4pQAAAAAAAABBAMzMzMzMzC0BmZmZmZmYGQJqZmZmZmQFAmpmZmZmZ+T8AAAAAAAD4fwAAAAAAAPh/AAAAAAAA+H8AAAAAAAD4fwAAAAAAAPh/AAAAAAAA+H8AAAAAAAD4fwAAAAAAAPh/AAAAAAAA+H8AAAAAAAD4fwAAAAAAAPh/AAAAAAAA+H/sUbgehevBPx+F61G4HuU/mpmZmZmZ8T89CtejcD36Px+F61G4HgFAuB6F61G4BEDhehSuR+EIQLgehetRuAxAcT0K16NwEEB7FK5H4XrsP3E9CtejcAdArkfhehSuE0BmZmZmZmYbQMP1KFyPQiJA7FG4HoVrJUBxPQrXo3AHQOxRuB6F6xNAw/UoXI/C7T/hehSuR+EbQOxRuB6F6yFAZmZmZmbmJUB7FK5H4fopQNejcD0K1y1AuB6F61H4MEDsUbgehesyQGZmZmZmZhhAZmZmZmZmGEBmZmZmZmYYQAAAAAAAAB5AAAAAAAAAHkAAAAAAAAAeQM3MzMzMzCFAzczMzMzMIUDNzMzMzMwhQM3MzMzMzCRAzczMzMzMJEDNzMzMzMwkQJqZmZmZmfk/mpmZmZmZ+T+amZmZmZkBQJqZmZmZmQFAZmZmZmZmBkBmZmZmZmYGQDMzMzMzMwtAMzMzMzMzC0AAAAAAAAAQQAAAAAAAABBA', 'dtype': 'float64', 'shape': (156,)}, 'Al_concentration': {'__ndarray__': '7FG4HoXr4T/hehSuR+HqP+xRuB6F6/E/7FG4HoXr+T+kcD0K16MAQNejcD0K1wlApHA9CtejEEB7FK5H4XrwP7gehetRuPY/mpmZmZmZ/T/Xo3A9Ctf/Px+F61G4HgNAPQrXo3A9CEBSuB6F61EMQEjhehSuRxBAexSuR+F6dD97FK5H4Xp0P3sUrkfhenQ/exSuR+F6dD97FK5H4Xp0P3sUrkfhenQ/exSuR+F6dD+amZmZmZmpP5qZmZmZmak/mpmZmZmZqT+amZmZmZmpP5qZmZmZmak/mpmZmZmZqT+amZmZmZmpP5qZmZmZmak/mpmZmZmZqT+amZmZmZmpP5qZmZmZmak/mpmZmZmZqT+amZmZmZm5P5qZmZmZmbk/mpmZmZmZuT+amZmZmZm5P5qZmZmZmbk/mpmZmZmZuT+amZmZmZm5P5qZmZmZmbk/mpmZmZmZuT+amZmZmZm5P5qZmZmZmbk/8tJNYhBY2T/y0k1iEFjZP/LSTWIQWNk/8tJNYhBY2T/y0k1iEFjZP/LSTWIQWNk/8tJNYhBY2T/y0k1iEFjZP/LSTWIQWNk/8tJNYhBY2T/y0k1iEFjZP5qZmZmZmek/mpmZmZmZ6T+amZmZmZnpP5qZmZmZmek/mpmZmZmZ6T+amZmZmZnpP5qZmZmZmek/mpmZmZmZ6T+amZmZmZnpPzMzMzMzM/M/MzMzMzMz8z8zMzMzMzPzPzMzMzMzM/M/MzMzMzMz8z8zMzMzMzPzPzMzMzMzM/M/MzMzMzMz8z8zMzMzMzPzPzMzMzMzM/M/MzMzMzMz8z8AAAAAAAAAQAAAAAAAAABAAAAAAAAAAEAAAAAAAAAAQAAAAAAAAABAAAAAAAAAAEAAAAAAAAAAQAAAAAAAAABAAAAAAAAAAEAAAAAAAAAIQAAAAAAAAAhAAAAAAAAACEAAAAAAAAAIQAAAAAAAAAhAAAAAAAAACEAAAAAAAAAIQAAAAAAAAAhAAAAAAAAACEAAAAAAAAAIQAAAAAAAAAhAAAAAAAAACEAEVg4tsp0UQARWDi2ynRRABFYOLbKdFEBU46WbxKAdQFTjpZvEoB1AVOOlm8SgHUBU46WbxKAdQFTjpZvEoB1AVOOlm8SgHUBU46WbxKAdQFTjpZvEoB1AVOOlm8SgHUB7FK5H4Xp0P3sUrkfhenQ/exSuR+F6dD97FK5H4Xp0P3sUrkfhenQ/exSuR+F6dD97FK5H4Xp0P3sUrkfhenQ/exSuR+F6dD97FK5H4Xp0P3sUrkfhenQ/exSuR+F6dD97FK5H4Xp0P3sUrkfhenQ/exSuR+F6dD97FK5H4Xp0P3sUrkfhenQ/exSuR+F6dD97FK5H4Xp0P3sUrkfhenQ/exSuR+F6dD97FK5H4Xp0P3sUrkfhenQ/exSuR+F6dD97FK5H4Xp0PwAAAAAAAAhAAAAAAAAACEAAAAAAAAAIQAAAAAAAAAhAAAAAAAAACEAAAAAAAAAIQAAAAAAAAAhAAAAAAAAACEAAAAAAAAAIQAAAAAAAAAhAAAAAAAAACEAAAAAAAAAIQAAAAAAAAAhAAAAAAAAACEAAAAAAAAAIQAAAAAAAAAhAAAAAAAAACEAAAAAAAAAIQAAAAAAAAAhAAAAAAAAACEAAAAAAAAAIQAAAAAAAAAhA', 'dtype': 'float64', 'shape': (156,)}, 'Al_ppm': {'__ndarray__': 'AAAAAAAA+H8AAAAAAAD4fwAAAAAAAPh/AAAAAAAA+H8AAAAAAAD4fwAAAAAAAPh/AAAAAAAA+H8AAAAAAAD4fwAAAAAAAPh/AAAAAAAA+H8AAAAAAAD4fwAAAAAAAPh/AAAAAAAA+H8AAAAAAAD4fwAAAAAAAPh/zczMzMwcVECamZmZmRlUQPYoXI/C5VNAuB6F61GIU0DsUbgehTtTQClcj8L1aFJAMzMzMzPzUUAfhetRuA5UQBSuR+F6BFRAj8L1KFzPU0B7FK5H4apTQD0K16NwvVNA16NwPQqHU0AzMzMzM3NTQFK4HoXrQVNAexSuR+EqU0CkcD0K1wNTQEjhehSux1JA16NwPQqXUkCkcD0K1xNUQD0K16NwDVRAFK5H4XoEVEBxPQrXo/BTQB+F61G4vlNA7FG4HoXbU0BI4XoUrpdTQOF6FK5HMVNAH4XrUbjuUkDNzMzMzIxSQDMzMzMzQ1JAPQrXo3ANVEBI4XoUrgdUQOxRuB6F+1NACtejcD3aU0CamZmZmclTQI/C9Shcr1NAFK5H4XqUU0AfhetRuG5TQNejcD0KN1NAFK5H4XokU0AUrkfheqRSQIXrUbgeFVRAKVyPwvUIVEAzMzMzM+NTQK5H4XoU3lNAexSuR+HKU0D2KFyPwrVTQAAAAAAAwFNAexSuR+GqU0BmZmZmZoZTQFK4HoXrEVRA7FG4HoX7U0C4HoXrUfhTQLgehetR+FNAuB6F61EIVEDhehSuRxFUQKRwPQrX41NAPQrXo3DtU0A9CtejcP1TQOxRuB6F61NAXI/C9SjcU0A9CtejcA1UQClcj8L1CFRA4XoUrkcBVECF61G4HvVTQOF6FK5HAVRAhetRuB71U0CPwvUoXN9TQOF6FK5H4VNA16NwPQrnU0DNzMzMzPxTQLgehetR+FNAmpmZmZn5U0C4HoXrUQhUQDMzMzMzE1RApHA9CtfjU0A9CtejcO1TQK5H4XoUzlNAH4XrUbjOU0CuR+F6FM5TQFyPwvUo3FNAH4XrUbjeU0AAAAAAAAD4fwAAAAAAAPh/AAAAAAAA+H8AAAAAAAD4fwAAAAAAAPh/AAAAAAAA+H8AAAAAAAD4fwAAAAAAAPh/AAAAAAAA+H8AAAAAAAD4fwAAAAAAAPh/AAAAAAAA+H89CtejcP1TQHsUrkfh+lNA9ihcj8L1U0AK16NwPepTQMP1KFyP4lNA16NwPQrXU0C4HoXrUchTQIXrUbgetVNArkfhehSeU0A9CtejcP1TQJqZmZmZ+VNA9ihcj8L1U0CuR+F6FO5TQArXo3A96lNACtejcD3qU0AUrkfhevRTQMP1KFyP4lNAH4XrUbj+U0C4HoXrUchTQM3MzMzMnFNAexSuR+FqU0CuR+F6FB5TQFK4HoXroVJAKVyPwvVIUkAUrkfhetRRQAAAAAAAAPh/AAAAAAAA+H8AAAAAAAD4fwAAAAAAAPh/AAAAAAAA+H8AAAAAAAD4fwAAAAAAAPh/AAAAAAAA+H8AAAAAAAD4fwAAAAAAAPh/AAAAAAAA+H8AAAAAAAD4fwAAAAAAAPh/AAAAAAAA+H8AAAAAAAD4fwAAAAAAAPh/AAAAAAAA+H8AAAAAAAD4fwAAAAAAAPh/AAAAAAAA+H8AAAAAAAD4fwAAAAAAAPh/', 'dtype': 'float64', 'shape': (156,)}, 'CI_concentration': {'__ndarray__': 'uB6F61G4BECkcD0K16MOQAAAAAAAABNA7FG4HoXrHEB7FK5H4XoiQAAAAAAAgCpAPQrXo3A9MUAUrkfhehQrQArXo3A9iilAw/UoXI9CKUB7FK5H4fovQGZmZmZm5jBAhetRuB4FMkAfhetRuF4zQNejcD0KlzFAAAAAAAAA+H8AAAAAAAD4fwAAAAAAAPh/AAAAAAAA+H8AAAAAAAD4fwAAAAAAAPh/AAAAAAAA+H8AAAAAAAD4fwAAAAAAAPh/AAAAAAAA+H8AAAAAAAD4fwAAAAAAAPh/AAAAAAAA+H8AAAAAAAD4fwAAAAAAAPh/AAAAAAAA+H8AAAAAAAD4fwAAAAAAAPh/AAAAAAAA+H8AAAAAAAD4fwAAAAAAAPh/AAAAAAAA+H8AAAAAAAD4fwAAAAAAAPh/AAAAAAAA+H8AAAAAAAD4fwAAAAAAAPh/AAAAAAAA+H8AAAAAAAD4fwAAAAAAAPh/AAAAAAAA+H8AAAAAAAD4fwAAAAAAAPh/AAAAAAAA+H8AAAAAAAD4fwAAAAAAAPh/AAAAAAAA+H8AAAAAAAD4fwAAAAAAAPh/AAAAAAAA+H8AAAAAAAD4fwAAAAAAAPh/AAAAAAAA+H8AAAAAAAD4fwAAAAAAAPh/AAAAAAAA+H8AAAAAAAD4fwAAAAAAAPh/AAAAAAAA+H8AAAAAAAD4fwAAAAAAAPh/AAAAAAAA+H8AAAAAAAD4fwAAAAAAAPh/AAAAAAAA+H8AAAAAAAD4fwAAAAAAAPh/AAAAAAAA+H8AAAAAAAD4fwAAAAAAAPh/AAAAAAAA+H8AAAAAAAD4fwAAAAAAAPh/AAAAAAAA+H8AAAAAAAD4fwAAAAAAAPh/AAAAAAAA+H8AAAAAAAD4fwAAAAAAAPh/AAAAAAAA+H8AAAAAAAD4fwAAAAAAAPh/AAAAAAAA+H8AAAAAAAD4fwAAAAAAAPh/AAAAAAAA+H8AAAAAAAD4fwAAAAAAAPh/AAAAAAAA+H8AAAAAAAD4fwAAAAAAAPh/AAAAAAAA+H8AAAAAAAD4fwAAAAAAAPh/AAAAAAAA+H8AAAAAAAD4fwAAAAAAAPh/AAAAAAAA+H8AAAAAAAD4fwAAAAAAAPh/AAAAAAAA+H8AAAAAAAD4fwAAAAAAAPh/AAAAAAAA+H8AAAAAAAD4fwAAAAAAAPh/AAAAAAAA+H8AAAAAAAD4fwAAAAAAAPh/AAAAAAAA+H8AAAAAAAD4fwAAAAAAAPh/AAAAAAAA+H8AAAAAAAD4fwAAAAAAAPh/AAAAAAAA+H8AAAAAAAD4fwAAAAAAAPh/AAAAAAAA+H8AAAAAAAD4fwAAAAAAAPh/AAAAAAAA+H8AAAAAAAD4fwAAAAAAAPh/AAAAAAAA+H8AAAAAAAD4fwAAAAAAAPh/AAAAAAAA+H8AAAAAAAD4fwAAAAAAAPh/AAAAAAAA+H8AAAAAAAD4fwAAAAAAAPh/AAAAAAAA+H8AAAAAAAD4fwAAAAAAAPh/AAAAAAAA+H8AAAAAAAD4fwAAAAAAAPh/AAAAAAAA+H8AAAAAAAD4fwAAAAAAAPh/AAAAAAAA+H8AAAAAAAD4fwAAAAAAAPh/AAAAAAAA+H8AAAAAAAD4fwAAAAAAAPh/AAAAAAAA+H8AAAAAAAD4fwAAAAAAAPh/', 'dtype': 'float64', 'shape': (156,)}},</div></div><div class=\"8a04f65a-bef4-4fb2-9a83-befcb5a2dcf2\" style=\"display: none;\"><div style=\"display: table-cell;\"></div><div style=\"display: table-cell;\">js_event_callbacks&nbsp;=&nbsp;{},</div></div><div class=\"8a04f65a-bef4-4fb2-9a83-befcb5a2dcf2\" style=\"display: none;\"><div style=\"display: table-cell;\"></div><div style=\"display: table-cell;\">js_property_callbacks&nbsp;=&nbsp;{},</div></div><div class=\"8a04f65a-bef4-4fb2-9a83-befcb5a2dcf2\" style=\"display: none;\"><div style=\"display: table-cell;\"></div><div style=\"display: table-cell;\">name&nbsp;=&nbsp;None,</div></div><div class=\"8a04f65a-bef4-4fb2-9a83-befcb5a2dcf2\" style=\"display: none;\"><div style=\"display: table-cell;\"></div><div style=\"display: table-cell;\">selected&nbsp;=&nbsp;{'2d': {'indices': {}}, '1d': {'indices': []}, '0d': {'indices': [], 'glyph': None}},</div></div><div class=\"8a04f65a-bef4-4fb2-9a83-befcb5a2dcf2\" style=\"display: none;\"><div style=\"display: table-cell;\"></div><div style=\"display: table-cell;\">subscribed_events&nbsp;=&nbsp;[],</div></div><div class=\"8a04f65a-bef4-4fb2-9a83-befcb5a2dcf2\" style=\"display: none;\"><div style=\"display: table-cell;\"></div><div style=\"display: table-cell;\">tags&nbsp;=&nbsp;[])</div></div></div>\n",
       "<script>\n",
       "(function() {\n",
       "  var expanded = false;\n",
       "  var ellipsis = document.getElementById(\"20575f09-e0ea-4d52-81b6-72bf0aefbb41\");\n",
       "  ellipsis.addEventListener(\"click\", function() {\n",
       "    var rows = document.getElementsByClassName(\"8a04f65a-bef4-4fb2-9a83-befcb5a2dcf2\");\n",
       "    for (var i = 0; i < rows.length; i++) {\n",
       "      var el = rows[i];\n",
       "      el.style.display = expanded ? \"none\" : \"table-row\";\n",
       "    }\n",
       "    ellipsis.innerHTML = expanded ? \"&hellip;)\" : \"&lsaquo;&lsaquo;&lsaquo;\";\n",
       "    expanded = !expanded;\n",
       "  });\n",
       "})();\n",
       "</script>\n"
      ],
      "text/plain": [
       "ColumnDataSource(id='759aff1a-fba4-4e3d-ad0b-c280ddae5f06', ...)"
      ]
     },
     "execution_count": 35,
     "metadata": {},
     "output_type": "execute_result"
    }
   ],
   "source": [
    "source = ColumnDataSource(data)\n",
    "source"
   ]
  },
  {
   "cell_type": "code",
   "execution_count": 37,
   "metadata": {
    "scrolled": false
   },
   "outputs": [
    {
     "data": {
      "text/html": [
       "\n",
       "\n",
       "    <div class=\"bk-root\">\n",
       "        <div class=\"bk-plotdiv\" id=\"2d02524e-8a6b-4692-bbe4-ec9423f18dfc\"></div>\n",
       "    </div>\n",
       "<script type=\"text/javascript\">\n",
       "  \n",
       "  (function(global) {\n",
       "    function now() {\n",
       "      return new Date();\n",
       "    }\n",
       "  \n",
       "    var force = false;\n",
       "  \n",
       "    if (typeof (window._bokeh_onload_callbacks) === \"undefined\" || force === true) {\n",
       "      window._bokeh_onload_callbacks = [];\n",
       "      window._bokeh_is_loading = undefined;\n",
       "    }\n",
       "  \n",
       "  \n",
       "    \n",
       "    if (typeof (window._bokeh_timeout) === \"undefined\" || force === true) {\n",
       "      window._bokeh_timeout = Date.now() + 0;\n",
       "      window._bokeh_failed_load = false;\n",
       "    }\n",
       "  \n",
       "    var NB_LOAD_WARNING = {'data': {'text/html':\n",
       "       \"<div style='background-color: #fdd'>\\n\"+\n",
       "       \"<p>\\n\"+\n",
       "       \"BokehJS does not appear to have successfully loaded. If loading BokehJS from CDN, this \\n\"+\n",
       "       \"may be due to a slow or bad network connection. Possible fixes:\\n\"+\n",
       "       \"</p>\\n\"+\n",
       "       \"<ul>\\n\"+\n",
       "       \"<li>re-rerun `output_notebook()` to attempt to load from CDN again, or</li>\\n\"+\n",
       "       \"<li>use INLINE resources instead, as so:</li>\\n\"+\n",
       "       \"</ul>\\n\"+\n",
       "       \"<code>\\n\"+\n",
       "       \"from bokeh.resources import INLINE\\n\"+\n",
       "       \"output_notebook(resources=INLINE)\\n\"+\n",
       "       \"</code>\\n\"+\n",
       "       \"</div>\"}};\n",
       "  \n",
       "    function display_loaded() {\n",
       "      if (window.Bokeh !== undefined) {\n",
       "        var el = document.getElementById(\"2d02524e-8a6b-4692-bbe4-ec9423f18dfc\");\n",
       "        el.textContent = \"BokehJS \" + Bokeh.version + \" successfully loaded.\";\n",
       "      } else if (Date.now() < window._bokeh_timeout) {\n",
       "        setTimeout(display_loaded, 100)\n",
       "      }\n",
       "    }\n",
       "  \n",
       "    function run_callbacks() {\n",
       "      try {\n",
       "        window._bokeh_onload_callbacks.forEach(function(callback) { callback() });\n",
       "      }\n",
       "      finally {\n",
       "        delete window._bokeh_onload_callbacks\n",
       "      }\n",
       "      console.info(\"Bokeh: all callbacks have finished\");\n",
       "    }\n",
       "  \n",
       "    function load_libs(js_urls, callback) {\n",
       "      window._bokeh_onload_callbacks.push(callback);\n",
       "      if (window._bokeh_is_loading > 0) {\n",
       "        console.log(\"Bokeh: BokehJS is being loaded, scheduling callback at\", now());\n",
       "        return null;\n",
       "      }\n",
       "      if (js_urls == null || js_urls.length === 0) {\n",
       "        run_callbacks();\n",
       "        return null;\n",
       "      }\n",
       "      console.log(\"Bokeh: BokehJS not loaded, scheduling load and callback at\", now());\n",
       "      window._bokeh_is_loading = js_urls.length;\n",
       "      for (var i = 0; i < js_urls.length; i++) {\n",
       "        var url = js_urls[i];\n",
       "        var s = document.createElement('script');\n",
       "        s.src = url;\n",
       "        s.async = false;\n",
       "        s.onreadystatechange = s.onload = function() {\n",
       "          window._bokeh_is_loading--;\n",
       "          if (window._bokeh_is_loading === 0) {\n",
       "            console.log(\"Bokeh: all BokehJS libraries loaded\");\n",
       "            run_callbacks()\n",
       "          }\n",
       "        };\n",
       "        s.onerror = function() {\n",
       "          console.warn(\"failed to load library \" + url);\n",
       "        };\n",
       "        console.log(\"Bokeh: injecting script tag for BokehJS library: \", url);\n",
       "        document.getElementsByTagName(\"head\")[0].appendChild(s);\n",
       "      }\n",
       "    };var element = document.getElementById(\"2d02524e-8a6b-4692-bbe4-ec9423f18dfc\");\n",
       "    if (element == null) {\n",
       "      console.log(\"Bokeh: ERROR: autoload.js configured with elementid '2d02524e-8a6b-4692-bbe4-ec9423f18dfc' but no matching script tag was found. \")\n",
       "      return false;\n",
       "    }\n",
       "  \n",
       "    var js_urls = [];\n",
       "  \n",
       "    var inline_js = [\n",
       "      function(Bokeh) {\n",
       "        (function() {\n",
       "          var fn = function() {\n",
       "            var docs_json = {\"c67fe5b0-c7e5-4cac-bceb-ab8925e17c8c\":{\"roots\":{\"references\":[{\"attributes\":{\"fill_color\":{\"field\":\"ion_colors\"},\"line_color\":{\"field\":\"ion_colors\"},\"x\":{\"field\":\"OH_concentration\"},\"y\":{\"field\":\"Al_ppm\"}},\"id\":\"7d9946f3-0652-49e3-b0cb-08b514aef70f\",\"type\":\"Circle\"},{\"attributes\":{},\"id\":\"1db5b361-b6c4-44e0-8cc8-3470ab850e86\",\"type\":\"BasicTicker\"},{\"attributes\":{\"callback\":null},\"id\":\"a62b0507-5dba-4e02-b6c8-0c1c54befded\",\"type\":\"DataRange1d\"},{\"attributes\":{},\"id\":\"0b6cddc5-d803-443c-9fd7-892912575e33\",\"type\":\"LinearScale\"},{\"attributes\":{\"axis_label\":\"[MOH]\",\"formatter\":{\"id\":\"f3c634db-e0ae-4a29-b957-9e356f472d4a\",\"type\":\"BasicTickFormatter\"},\"plot\":{\"id\":\"f6e64300-04f1-4476-992c-ed9df9c87db9\",\"subtype\":\"Figure\",\"type\":\"Plot\"},\"ticker\":{\"id\":\"b80258e2-1d5c-41b1-8e87-0903464fae21\",\"type\":\"BasicTicker\"}},\"id\":\"38f128de-af51-4f3c-a545-d631d2cc1356\",\"type\":\"LinearAxis\"},{\"attributes\":{},\"id\":\"ed2bbdff-b243-4ea3-9a49-aee98cf3ddfd\",\"type\":\"BasicTickFormatter\"},{\"attributes\":{\"fill_alpha\":{\"value\":0.1},\"fill_color\":{\"value\":\"#1f77b4\"},\"line_alpha\":{\"value\":0.1},\"line_color\":{\"value\":\"#1f77b4\"},\"x\":{\"field\":\"OH_concentration\"},\"y\":{\"field\":\"Al_ppm\"}},\"id\":\"c27edb7d-6bfa-44d5-8e57-38e6b781f9d7\",\"type\":\"Circle\"},{\"attributes\":{\"callback\":null,\"plot\":{\"id\":\"f6e64300-04f1-4476-992c-ed9df9c87db9\",\"subtype\":\"Figure\",\"type\":\"Plot\"},\"tooltips\":[[\"(x,y)\",\"($x, $y)\"],[\"doi\",\"@{doi}\"]]},\"id\":\"8d896b78-5b5f-460a-a8d6-db4a52b46b6f\",\"type\":\"HoverTool\"},{\"attributes\":{\"axis_label\":\"27 Al ppm\",\"formatter\":{\"id\":\"ed2bbdff-b243-4ea3-9a49-aee98cf3ddfd\",\"type\":\"BasicTickFormatter\"},\"plot\":{\"id\":\"f6e64300-04f1-4476-992c-ed9df9c87db9\",\"subtype\":\"Figure\",\"type\":\"Plot\"},\"ticker\":{\"id\":\"1db5b361-b6c4-44e0-8cc8-3470ab850e86\",\"type\":\"BasicTicker\"}},\"id\":\"a425402a-a38f-43b6-a5b1-75958d09df2b\",\"type\":\"LinearAxis\"},{\"attributes\":{\"background_fill_alpha\":{\"value\":0.5},\"background_fill_color\":{\"value\":\"beige\"},\"below\":[{\"id\":\"38f128de-af51-4f3c-a545-d631d2cc1356\",\"type\":\"LinearAxis\"}],\"left\":[{\"id\":\"a425402a-a38f-43b6-a5b1-75958d09df2b\",\"type\":\"LinearAxis\"}],\"renderers\":[{\"id\":\"38f128de-af51-4f3c-a545-d631d2cc1356\",\"type\":\"LinearAxis\"},{\"id\":\"299738f8-eadc-4042-ac8c-b00dc6fe742c\",\"type\":\"Grid\"},{\"id\":\"a425402a-a38f-43b6-a5b1-75958d09df2b\",\"type\":\"LinearAxis\"},{\"id\":\"4dc22a91-cf15-4023-97cb-b6fb0041a124\",\"type\":\"Grid\"},{\"id\":\"c6f05b50-7133-42c6-bc64-3e098b43b8a2\",\"type\":\"GlyphRenderer\"}],\"title\":{\"id\":\"f99154e0-480e-4fd6-9d8c-a8da51f833f1\",\"type\":\"Title\"},\"tool_events\":{\"id\":\"98911940-d308-4a9e-9058-c7fca85f110f\",\"type\":\"ToolEvents\"},\"toolbar\":{\"id\":\"fc3c9782-9ada-47dd-a2e5-eae473c20a3c\",\"type\":\"Toolbar\"},\"x_range\":{\"id\":\"a62b0507-5dba-4e02-b6c8-0c1c54befded\",\"type\":\"DataRange1d\"},\"x_scale\":{\"id\":\"0b6cddc5-d803-443c-9fd7-892912575e33\",\"type\":\"LinearScale\"},\"y_range\":{\"id\":\"c96fdeeb-2d30-4163-a5f7-0f70b1cf32a4\",\"type\":\"DataRange1d\"},\"y_scale\":{\"id\":\"1faad158-dee8-491f-900e-fdcfab708a94\",\"type\":\"LinearScale\"}},\"id\":\"f6e64300-04f1-4476-992c-ed9df9c87db9\",\"subtype\":\"Figure\",\"type\":\"Plot\"},{\"attributes\":{},\"id\":\"98911940-d308-4a9e-9058-c7fca85f110f\",\"type\":\"ToolEvents\"},{\"attributes\":{\"plot\":{\"id\":\"f6e64300-04f1-4476-992c-ed9df9c87db9\",\"subtype\":\"Figure\",\"type\":\"Plot\"},\"ticker\":{\"id\":\"b80258e2-1d5c-41b1-8e87-0903464fae21\",\"type\":\"BasicTicker\"}},\"id\":\"299738f8-eadc-4042-ac8c-b00dc6fe742c\",\"type\":\"Grid\"},{\"attributes\":{\"active_drag\":\"auto\",\"active_inspect\":\"auto\",\"active_scroll\":\"auto\",\"active_tap\":\"auto\",\"tools\":[{\"id\":\"8d896b78-5b5f-460a-a8d6-db4a52b46b6f\",\"type\":\"HoverTool\"}]},\"id\":\"fc3c9782-9ada-47dd-a2e5-eae473c20a3c\",\"type\":\"Toolbar\"},{\"attributes\":{},\"id\":\"f3c634db-e0ae-4a29-b957-9e356f472d4a\",\"type\":\"BasicTickFormatter\"},{\"attributes\":{\"plot\":null,\"text\":\"Al ppm v. [MOH]\"},\"id\":\"f99154e0-480e-4fd6-9d8c-a8da51f833f1\",\"type\":\"Title\"},{\"attributes\":{\"callback\":null},\"id\":\"c96fdeeb-2d30-4163-a5f7-0f70b1cf32a4\",\"type\":\"DataRange1d\"},{\"attributes\":{\"callback\":null,\"column_names\":[\"counter_ion\",\"wavelength\",\"ion_colors\",\"index\",\"temperature\",\"doi\",\"OH_concentration\",\"Al_concentration\",\"Al_ppm\",\"CI_concentration\"],\"data\":{\"Al_concentration\":{\"__ndarray__\":\"7FG4HoXr4T/hehSuR+HqP+xRuB6F6/E/7FG4HoXr+T+kcD0K16MAQNejcD0K1wlApHA9CtejEEB7FK5H4XrwP7gehetRuPY/mpmZmZmZ/T/Xo3A9Ctf/Px+F61G4HgNAPQrXo3A9CEBSuB6F61EMQEjhehSuRxBAexSuR+F6dD97FK5H4Xp0P3sUrkfhenQ/exSuR+F6dD97FK5H4Xp0P3sUrkfhenQ/exSuR+F6dD+amZmZmZmpP5qZmZmZmak/mpmZmZmZqT+amZmZmZmpP5qZmZmZmak/mpmZmZmZqT+amZmZmZmpP5qZmZmZmak/mpmZmZmZqT+amZmZmZmpP5qZmZmZmak/mpmZmZmZqT+amZmZmZm5P5qZmZmZmbk/mpmZmZmZuT+amZmZmZm5P5qZmZmZmbk/mpmZmZmZuT+amZmZmZm5P5qZmZmZmbk/mpmZmZmZuT+amZmZmZm5P5qZmZmZmbk/8tJNYhBY2T/y0k1iEFjZP/LSTWIQWNk/8tJNYhBY2T/y0k1iEFjZP/LSTWIQWNk/8tJNYhBY2T/y0k1iEFjZP/LSTWIQWNk/8tJNYhBY2T/y0k1iEFjZP5qZmZmZmek/mpmZmZmZ6T+amZmZmZnpP5qZmZmZmek/mpmZmZmZ6T+amZmZmZnpP5qZmZmZmek/mpmZmZmZ6T+amZmZmZnpPzMzMzMzM/M/MzMzMzMz8z8zMzMzMzPzPzMzMzMzM/M/MzMzMzMz8z8zMzMzMzPzPzMzMzMzM/M/MzMzMzMz8z8zMzMzMzPzPzMzMzMzM/M/MzMzMzMz8z8AAAAAAAAAQAAAAAAAAABAAAAAAAAAAEAAAAAAAAAAQAAAAAAAAABAAAAAAAAAAEAAAAAAAAAAQAAAAAAAAABAAAAAAAAAAEAAAAAAAAAIQAAAAAAAAAhAAAAAAAAACEAAAAAAAAAIQAAAAAAAAAhAAAAAAAAACEAAAAAAAAAIQAAAAAAAAAhAAAAAAAAACEAAAAAAAAAIQAAAAAAAAAhAAAAAAAAACEAEVg4tsp0UQARWDi2ynRRABFYOLbKdFEBU46WbxKAdQFTjpZvEoB1AVOOlm8SgHUBU46WbxKAdQFTjpZvEoB1AVOOlm8SgHUBU46WbxKAdQFTjpZvEoB1AVOOlm8SgHUB7FK5H4Xp0P3sUrkfhenQ/exSuR+F6dD97FK5H4Xp0P3sUrkfhenQ/exSuR+F6dD97FK5H4Xp0P3sUrkfhenQ/exSuR+F6dD97FK5H4Xp0P3sUrkfhenQ/exSuR+F6dD97FK5H4Xp0P3sUrkfhenQ/exSuR+F6dD97FK5H4Xp0P3sUrkfhenQ/exSuR+F6dD97FK5H4Xp0P3sUrkfhenQ/exSuR+F6dD97FK5H4Xp0P3sUrkfhenQ/exSuR+F6dD97FK5H4Xp0PwAAAAAAAAhAAAAAAAAACEAAAAAAAAAIQAAAAAAAAAhAAAAAAAAACEAAAAAAAAAIQAAAAAAAAAhAAAAAAAAACEAAAAAAAAAIQAAAAAAAAAhAAAAAAAAACEAAAAAAAAAIQAAAAAAAAAhAAAAAAAAACEAAAAAAAAAIQAAAAAAAAAhAAAAAAAAACEAAAAAAAAAIQAAAAAAAAAhAAAAAAAAACEAAAAAAAAAIQAAAAAAAAAhA\",\"dtype\":\"float64\",\"shape\":[156]},\"Al_ppm\":{\"__ndarray__\":\"AAAAAAAA+H8AAAAAAAD4fwAAAAAAAPh/AAAAAAAA+H8AAAAAAAD4fwAAAAAAAPh/AAAAAAAA+H8AAAAAAAD4fwAAAAAAAPh/AAAAAAAA+H8AAAAAAAD4fwAAAAAAAPh/AAAAAAAA+H8AAAAAAAD4fwAAAAAAAPh/zczMzMwcVECamZmZmRlUQPYoXI/C5VNAuB6F61GIU0DsUbgehTtTQClcj8L1aFJAMzMzMzPzUUAfhetRuA5UQBSuR+F6BFRAj8L1KFzPU0B7FK5H4apTQD0K16NwvVNA16NwPQqHU0AzMzMzM3NTQFK4HoXrQVNAexSuR+EqU0CkcD0K1wNTQEjhehSux1JA16NwPQqXUkCkcD0K1xNUQD0K16NwDVRAFK5H4XoEVEBxPQrXo/BTQB+F61G4vlNA7FG4HoXbU0BI4XoUrpdTQOF6FK5HMVNAH4XrUbjuUkDNzMzMzIxSQDMzMzMzQ1JAPQrXo3ANVEBI4XoUrgdUQOxRuB6F+1NACtejcD3aU0CamZmZmclTQI/C9Shcr1NAFK5H4XqUU0AfhetRuG5TQNejcD0KN1NAFK5H4XokU0AUrkfheqRSQIXrUbgeFVRAKVyPwvUIVEAzMzMzM+NTQK5H4XoU3lNAexSuR+HKU0D2KFyPwrVTQAAAAAAAwFNAexSuR+GqU0BmZmZmZoZTQFK4HoXrEVRA7FG4HoX7U0C4HoXrUfhTQLgehetR+FNAuB6F61EIVEDhehSuRxFUQKRwPQrX41NAPQrXo3DtU0A9CtejcP1TQOxRuB6F61NAXI/C9SjcU0A9CtejcA1UQClcj8L1CFRA4XoUrkcBVECF61G4HvVTQOF6FK5HAVRAhetRuB71U0CPwvUoXN9TQOF6FK5H4VNA16NwPQrnU0DNzMzMzPxTQLgehetR+FNAmpmZmZn5U0C4HoXrUQhUQDMzMzMzE1RApHA9CtfjU0A9CtejcO1TQK5H4XoUzlNAH4XrUbjOU0CuR+F6FM5TQFyPwvUo3FNAH4XrUbjeU0AAAAAAAAD4fwAAAAAAAPh/AAAAAAAA+H8AAAAAAAD4fwAAAAAAAPh/AAAAAAAA+H8AAAAAAAD4fwAAAAAAAPh/AAAAAAAA+H8AAAAAAAD4fwAAAAAAAPh/AAAAAAAA+H89CtejcP1TQHsUrkfh+lNA9ihcj8L1U0AK16NwPepTQMP1KFyP4lNA16NwPQrXU0C4HoXrUchTQIXrUbgetVNArkfhehSeU0A9CtejcP1TQJqZmZmZ+VNA9ihcj8L1U0CuR+F6FO5TQArXo3A96lNACtejcD3qU0AUrkfhevRTQMP1KFyP4lNAH4XrUbj+U0C4HoXrUchTQM3MzMzMnFNAexSuR+FqU0CuR+F6FB5TQFK4HoXroVJAKVyPwvVIUkAUrkfhetRRQAAAAAAAAPh/AAAAAAAA+H8AAAAAAAD4fwAAAAAAAPh/AAAAAAAA+H8AAAAAAAD4fwAAAAAAAPh/AAAAAAAA+H8AAAAAAAD4fwAAAAAAAPh/AAAAAAAA+H8AAAAAAAD4fwAAAAAAAPh/AAAAAAAA+H8AAAAAAAD4fwAAAAAAAPh/AAAAAAAA+H8AAAAAAAD4fwAAAAAAAPh/AAAAAAAA+H8AAAAAAAD4fwAAAAAAAPh/\",\"dtype\":\"float64\",\"shape\":[156]},\"CI_concentration\":{\"__ndarray__\":\"uB6F61G4BECkcD0K16MOQAAAAAAAABNA7FG4HoXrHEB7FK5H4XoiQAAAAAAAgCpAPQrXo3A9MUAUrkfhehQrQArXo3A9iilAw/UoXI9CKUB7FK5H4fovQGZmZmZm5jBAhetRuB4FMkAfhetRuF4zQNejcD0KlzFAAAAAAAAA+H8AAAAAAAD4fwAAAAAAAPh/AAAAAAAA+H8AAAAAAAD4fwAAAAAAAPh/AAAAAAAA+H8AAAAAAAD4fwAAAAAAAPh/AAAAAAAA+H8AAAAAAAD4fwAAAAAAAPh/AAAAAAAA+H8AAAAAAAD4fwAAAAAAAPh/AAAAAAAA+H8AAAAAAAD4fwAAAAAAAPh/AAAAAAAA+H8AAAAAAAD4fwAAAAAAAPh/AAAAAAAA+H8AAAAAAAD4fwAAAAAAAPh/AAAAAAAA+H8AAAAAAAD4fwAAAAAAAPh/AAAAAAAA+H8AAAAAAAD4fwAAAAAAAPh/AAAAAAAA+H8AAAAAAAD4fwAAAAAAAPh/AAAAAAAA+H8AAAAAAAD4fwAAAAAAAPh/AAAAAAAA+H8AAAAAAAD4fwAAAAAAAPh/AAAAAAAA+H8AAAAAAAD4fwAAAAAAAPh/AAAAAAAA+H8AAAAAAAD4fwAAAAAAAPh/AAAAAAAA+H8AAAAAAAD4fwAAAAAAAPh/AAAAAAAA+H8AAAAAAAD4fwAAAAAAAPh/AAAAAAAA+H8AAAAAAAD4fwAAAAAAAPh/AAAAAAAA+H8AAAAAAAD4fwAAAAAAAPh/AAAAAAAA+H8AAAAAAAD4fwAAAAAAAPh/AAAAAAAA+H8AAAAAAAD4fwAAAAAAAPh/AAAAAAAA+H8AAAAAAAD4fwAAAAAAAPh/AAAAAAAA+H8AAAAAAAD4fwAAAAAAAPh/AAAAAAAA+H8AAAAAAAD4fwAAAAAAAPh/AAAAAAAA+H8AAAAAAAD4fwAAAAAAAPh/AAAAAAAA+H8AAAAAAAD4fwAAAAAAAPh/AAAAAAAA+H8AAAAAAAD4fwAAAAAAAPh/AAAAAAAA+H8AAAAAAAD4fwAAAAAAAPh/AAAAAAAA+H8AAAAAAAD4fwAAAAAAAPh/AAAAAAAA+H8AAAAAAAD4fwAAAAAAAPh/AAAAAAAA+H8AAAAAAAD4fwAAAAAAAPh/AAAAAAAA+H8AAAAAAAD4fwAAAAAAAPh/AAAAAAAA+H8AAAAAAAD4fwAAAAAAAPh/AAAAAAAA+H8AAAAAAAD4fwAAAAAAAPh/AAAAAAAA+H8AAAAAAAD4fwAAAAAAAPh/AAAAAAAA+H8AAAAAAAD4fwAAAAAAAPh/AAAAAAAA+H8AAAAAAAD4fwAAAAAAAPh/AAAAAAAA+H8AAAAAAAD4fwAAAAAAAPh/AAAAAAAA+H8AAAAAAAD4fwAAAAAAAPh/AAAAAAAA+H8AAAAAAAD4fwAAAAAAAPh/AAAAAAAA+H8AAAAAAAD4fwAAAAAAAPh/AAAAAAAA+H8AAAAAAAD4fwAAAAAAAPh/AAAAAAAA+H8AAAAAAAD4fwAAAAAAAPh/AAAAAAAA+H8AAAAAAAD4fwAAAAAAAPh/AAAAAAAA+H8AAAAAAAD4fwAAAAAAAPh/AAAAAAAA+H8AAAAAAAD4fwAAAAAAAPh/AAAAAAAA+H8AAAAAAAD4fwAAAAAAAPh/\",\"dtype\":\"float64\",\"shape\":[156]},\"OH_concentration\":{\"__ndarray__\":\"KVyPwvUoEEB7FK5H4XoYQIXrUbgehR9AuB6F61G4J0AAAAAAAIAuQPYoXI/CtTZAPQrXo3B9PUBmZmZmZmYwQM3MzMzMzDBAMzMzMzPzMUB7FK5H4bo1QNejcD0K1zdA4XoUrkfhOkDD9Shcj8I9QFK4HoXrkT1AAAAAAAAA8D8AAAAAAAAUQAAAAAAAABxAAAAAAAAAJkAAAAAAAAAqQAAAAAAAADFAAAAAAAAAM0DNzMzMzMwCQBSuR+F6FBBAMzMzMzMzIECamZmZmZkjQD0K16NwPSJAUrgehetRJkCuR+F6FK4nQNejcD0KVypAw/UoXI/CK0C4HoXrUbgtQNejcD0K1y9A7FG4HoXrMEBI4XoUrkf5Pylcj8L1KAhAPQrXo3A9EkA9CtejcD0YQFK4HoXr0SFAMzMzMzMzHkBcj8L1KFwlQLgehetROCtAmpmZmZkZLkBcj8L1KNwwQNejcD0K1zFAUrgehetR+D8pXI/C9SgIQM3MzMzMzBFACtejcD0KHkBmZmZmZuYhQGZmZmZm5iRA4XoUrkdhJkCPwvUoXA8rQKRwPQrXIy5A9ihcj8J1MECF61G4HgUyQAAAAAAAAPg/AAAAAAAAEkAfhetRuB4eQIXrUbgeBSJAexSuR+H6JECkcD0K1yMoQI/C9ShcDytA16NwPQpXLkAAAAAAAMAwQClcj8L1KAhAPQrXo3A9E0D2KFyPwvUXQB+F61G4Hh5AZmZmZmbmIUCF61G4HgUlQHsUrkfh+idArkfhehQuKUCPwvUoXA8rQI/C9ShcDy5AUrgeheuRMEApXI/C9SgIQI/C9ShcjxJA9ihcj8L1F0CPwvUoXI8dQI/C9ShcjyFAXI/C9SjcJECPwvUoXI8nQJqZmZmZmSpAmpmZmZkZLUApXI/C9SgTQOF6FK5H4RdAMzMzMzMzHkBmZmZmZuYhQIXrUbgeBSVAexSuR+H6J0CuR+F6FC4pQAAAAAAAABBAMzMzMzMzC0BmZmZmZmYGQJqZmZmZmQFAmpmZmZmZ+T8AAAAAAAD4fwAAAAAAAPh/AAAAAAAA+H8AAAAAAAD4fwAAAAAAAPh/AAAAAAAA+H8AAAAAAAD4fwAAAAAAAPh/AAAAAAAA+H8AAAAAAAD4fwAAAAAAAPh/AAAAAAAA+H/sUbgehevBPx+F61G4HuU/mpmZmZmZ8T89CtejcD36Px+F61G4HgFAuB6F61G4BEDhehSuR+EIQLgehetRuAxAcT0K16NwEEB7FK5H4XrsP3E9CtejcAdArkfhehSuE0BmZmZmZmYbQMP1KFyPQiJA7FG4HoVrJUBxPQrXo3AHQOxRuB6F6xNAw/UoXI/C7T/hehSuR+EbQOxRuB6F6yFAZmZmZmbmJUB7FK5H4fopQNejcD0K1y1AuB6F61H4MEDsUbgehesyQGZmZmZmZhhAZmZmZmZmGEBmZmZmZmYYQAAAAAAAAB5AAAAAAAAAHkAAAAAAAAAeQM3MzMzMzCFAzczMzMzMIUDNzMzMzMwhQM3MzMzMzCRAzczMzMzMJEDNzMzMzMwkQJqZmZmZmfk/mpmZmZmZ+T+amZmZmZkBQJqZmZmZmQFAZmZmZmZmBkBmZmZmZmYGQDMzMzMzMwtAMzMzMzMzC0AAAAAAAAAQQAAAAAAAABBA\",\"dtype\":\"float64\",\"shape\":[156]},\"counter_ion\":[\"Na+\",\"Na+\",\"Na+\",\"Na+\",\"Na+\",\"Na+\",\"Na+\",\"Na+\",\"Na+\",\"Na+\",\"Na+\",\"Na+\",\"Na+\",\"Na+\",\"Na+\",\"Na+\",\"Na+\",\"Na+\",\"Na+\",\"Na+\",\"Na+\",\"Na+\",\"Na+\",\"Na+\",\"Na+\",\"Na+\",\"Na+\",\"Na+\",\"Na+\",\"Na+\",\"Na+\",\"Na+\",\"Na+\",\"Na+\",\"Na+\",\"Na+\",\"Na+\",\"Na+\",\"Na+\",\"Na+\",\"Na+\",\"Na+\",\"Na+\",\"Na+\",\"Na+\",\"Na+\",\"Na+\",\"Na+\",\"Na+\",\"Na+\",\"Na+\",\"Na+\",\"Na+\",\"Na+\",\"Na+\",\"Na+\",\"Na+\",\"Na+\",\"Na+\",\"Na+\",\"Na+\",\"Na+\",\"Na+\",\"Na+\",\"Na+\",\"Na+\",\"Na+\",\"Na+\",\"Na+\",\"Na+\",\"Na+\",\"Na+\",\"Na+\",\"Na+\",\"Na+\",\"Na+\",\"Na+\",\"Na+\",\"Na+\",\"Na+\",\"Na+\",\"Na+\",\"Na+\",\"Na+\",\"Na+\",\"Na+\",\"Na+\",\"Na+\",\"Na+\",\"Na+\",\"Na+\",\"Na+\",\"Cs+\",\"Cs+\",\"Cs+\",\"Cs+\",\"Cs+\",\"Na+\",\"Na+\",\"Na+\",\"Na+\",\"Na+\",\"Na+\",\"Na+\",\"Na+\",\"Na+\",\"Na+\",\"Na+\",\"Na+\",\"Li+\",\"Li+\",\"Li+\",\"Li+\",\"Li+\",\"Li+\",\"Li+\",\"Li+\",\"Li+\",\"K+\",\"K+\",\"K+\",\"K+\",\"K+\",\"K+\",\"Na+\",\"Na+\",\"Na+\",\"Na+\",\"Na+\",\"Na+\",\"Na+\",\"Na+\",\"Na+\",\"Na+\",\"Na+\",\"Na+\",\"Na+\",\"Na+\",\"Na+\",\"Na+\",\"Na+\",\"Na+\",\"Na+\",\"Na+\",\"Na+\",\"Na+\",\"Cs+\",\"Cs+\",\"Cs+\",\"Cs+\",\"Cs+\",\"Cs+\",\"Cs+\",\"Cs+\",\"Cs+\",\"Cs+\"],\"doi\":[\"http://collections.mun.ca/cdm/compoundobject/collection/theses2/id/222115/rec/6\",\"http://collections.mun.ca/cdm/compoundobject/collection/theses2/id/222115/rec/6\",\"http://collections.mun.ca/cdm/compoundobject/collection/theses2/id/222115/rec/6\",\"http://collections.mun.ca/cdm/compoundobject/collection/theses2/id/222115/rec/6\",\"http://collections.mun.ca/cdm/compoundobject/collection/theses2/id/222115/rec/6\",\"http://collections.mun.ca/cdm/compoundobject/collection/theses2/id/222115/rec/6\",\"http://collections.mun.ca/cdm/compoundobject/collection/theses2/id/222115/rec/6\",\"http://collections.mun.ca/cdm/compoundobject/collection/theses2/id/222115/rec/6\",\"http://collections.mun.ca/cdm/compoundobject/collection/theses2/id/222115/rec/6\",\"http://collections.mun.ca/cdm/compoundobject/collection/theses2/id/222115/rec/6\",\"http://collections.mun.ca/cdm/compoundobject/collection/theses2/id/222115/rec/6\",\"http://collections.mun.ca/cdm/compoundobject/collection/theses2/id/222115/rec/6\",\"http://collections.mun.ca/cdm/compoundobject/collection/theses2/id/222115/rec/6\",\"http://collections.mun.ca/cdm/compoundobject/collection/theses2/id/222115/rec/6\",\"http://collections.mun.ca/cdm/compoundobject/collection/theses2/id/222115/rec/6\",\"10.1016/j.talanta.2006.02.008\",\"10.1016/j.talanta.2006.02.008\",\"10.1016/j.talanta.2006.02.008\",\"10.1016/j.talanta.2006.02.008\",\"10.1016/j.talanta.2006.02.008\",\"10.1016/j.talanta.2006.02.008\",\"10.1016/j.talanta.2006.02.008\",\"10.1016/j.talanta.2006.02.008\",\"10.1016/j.talanta.2006.02.008\",\"10.1016/j.talanta.2006.02.008\",\"10.1016/j.talanta.2006.02.008\",\"10.1016/j.talanta.2006.02.008\",\"10.1016/j.talanta.2006.02.008\",\"10.1016/j.talanta.2006.02.008\",\"10.1016/j.talanta.2006.02.008\",\"10.1016/j.talanta.2006.02.008\",\"10.1016/j.talanta.2006.02.008\",\"10.1016/j.talanta.2006.02.008\",\"10.1016/j.talanta.2006.02.008\",\"10.1016/j.talanta.2006.02.008\",\"10.1016/j.talanta.2006.02.008\",\"10.1016/j.talanta.2006.02.008\",\"10.1016/j.talanta.2006.02.008\",\"10.1016/j.talanta.2006.02.008\",\"10.1016/j.talanta.2006.02.008\",\"10.1016/j.talanta.2006.02.008\",\"10.1016/j.talanta.2006.02.008\",\"10.1016/j.talanta.2006.02.008\",\"10.1016/j.talanta.2006.02.008\",\"10.1016/j.talanta.2006.02.008\",\"10.1016/j.talanta.2006.02.008\",\"10.1016/j.talanta.2006.02.008\",\"10.1016/j.talanta.2006.02.008\",\"10.1016/j.talanta.2006.02.008\",\"10.1016/j.talanta.2006.02.008\",\"10.1016/j.talanta.2006.02.008\",\"10.1016/j.talanta.2006.02.008\",\"10.1016/j.talanta.2006.02.008\",\"10.1016/j.talanta.2006.02.008\",\"10.1016/j.talanta.2006.02.008\",\"10.1016/j.talanta.2006.02.008\",\"10.1016/j.talanta.2006.02.008\",\"10.1016/j.talanta.2006.02.008\",\"10.1016/j.talanta.2006.02.008\",\"10.1016/j.talanta.2006.02.008\",\"10.1016/j.talanta.2006.02.008\",\"10.1016/j.talanta.2006.02.008\",\"10.1016/j.talanta.2006.02.008\",\"10.1016/j.talanta.2006.02.008\",\"10.1016/j.talanta.2006.02.008\",\"10.1016/j.talanta.2006.02.008\",\"10.1016/j.talanta.2006.02.008\",\"10.1016/j.talanta.2006.02.008\",\"10.1016/j.talanta.2006.02.008\",\"10.1016/j.talanta.2006.02.008\",\"10.1016/j.talanta.2006.02.008\",\"10.1016/j.talanta.2006.02.008\",\"10.1016/j.talanta.2006.02.008\",\"10.1016/j.talanta.2006.02.008\",\"10.1016/j.talanta.2006.02.008\",\"10.1016/j.talanta.2006.02.008\",\"10.1016/j.talanta.2006.02.008\",\"10.1016/j.talanta.2006.02.008\",\"10.1016/j.talanta.2006.02.008\",\"10.1016/j.talanta.2006.02.008\",\"10.1016/j.talanta.2006.02.008\",\"10.1016/j.talanta.2006.02.008\",\"10.1016/j.talanta.2006.02.008\",\"10.1016/j.talanta.2006.02.008\",\"10.1016/j.talanta.2006.02.008\",\"10.1016/j.talanta.2006.02.008\",\"10.1016/j.talanta.2006.02.008\",\"10.1016/j.talanta.2006.02.008\",\"10.1016/j.talanta.2006.02.008\",\"10.1016/j.talanta.2006.02.008\",\"10.1016/j.talanta.2006.02.008\",\"10.1016/j.talanta.2006.02.008\",\"10.1016/j.talanta.2006.02.008\",\"10.1016/j.talanta.2006.02.008\",\"10.1016/j.talanta.2006.02.008\",\"10.1016/j.talanta.2006.02.008\",\"10.1016/j.talanta.2006.02.008\",\"10.1016/j.talanta.2006.02.008\",\"10.1016/j.talanta.2006.02.008\",\"10.1016/j.talanta.2006.02.008\",\"10.1016/j.talanta.2006.02.008\",\"10.1016/j.talanta.2006.02.008\",\"10.1016/j.talanta.2006.02.008\",\"10.1016/j.talanta.2006.02.008\",\"10.1016/j.talanta.2006.02.008\",\"10.1016/j.talanta.2006.02.008\",\"10.1016/j.talanta.2006.02.008\",\"10.1016/j.talanta.2006.02.008\",\"10.1016/j.talanta.2006.02.008\",\"10.1016/j.talanta.2006.02.008\",\"10.1016/j.talanta.2006.02.008\",\"10.1016/j.talanta.2006.02.008\",\"10.1016/j.talanta.2006.02.008\",\"10.1016/j.talanta.2006.02.008\",\"10.1016/j.talanta.2006.02.008\",\"10.1016/j.talanta.2006.02.008\",\"10.1016/j.talanta.2006.02.008\",\"10.1016/j.talanta.2006.02.008\",\"10.1016/j.talanta.2006.02.008\",\"10.1016/j.talanta.2006.02.008\",\"10.1016/j.talanta.2006.02.008\",\"10.1016/j.talanta.2006.02.008\",\"10.1016/j.talanta.2006.02.008\",\"10.1016/j.talanta.2006.02.008\",\"10.1016/j.talanta.2006.02.008\",\"10.1016/j.talanta.2006.02.008\",\"10.1016/j.talanta.2006.02.008\",\"10.1016/j.talanta.2006.02.008\",\"10.1016/j.talanta.2006.02.008\",\"10.1016/j.talanta.2006.02.008\",\"10.1016/j.talanta.2006.02.008\",\"10.1016/j.talanta.2006.02.008\",\"10.1016/j.talanta.2006.02.008\",\"10.1016/j.talanta.2006.02.008\",\"10.1016/j.talanta.2006.02.008\",\"10.1016/j.talanta.2006.02.008\",\"10.1016/j.talanta.2006.02.008\",\"10.1016/j.talanta.2006.02.008\",\"10.1016/j.talanta.2006.02.008\",\"10.1016/j.talanta.2006.02.008\",\"10.1016/j.talanta.2006.02.008\",\"10.1016/j.talanta.2006.02.008\",\"10.1016/j.talanta.2006.02.008\",\"10.1016/j.talanta.2006.02.008\",\"10.1016/j.talanta.2006.02.008\",\"10.1016/j.talanta.2006.02.008\",\"10.1016/j.talanta.2006.02.008\",\"10.1016/j.talanta.2006.02.008\",\"10.1016/j.talanta.2006.02.008\",\"10.1016/j.talanta.2006.02.008\",\"10.1016/j.talanta.2006.02.008\",\"10.1016/j.talanta.2006.02.008\",\"10.1016/j.talanta.2006.02.008\",\"10.1016/j.talanta.2006.02.008\",\"10.1016/j.talanta.2006.02.008\",\"10.1016/j.talanta.2006.02.008\"],\"index\":[0,1,2,3,4,5,6,7,8,9,10,11,12,13,14,15,16,17,18,19,20,21,22,23,24,25,26,27,28,29,30,31,32,33,34,35,36,37,38,39,40,41,42,43,44,45,46,47,48,49,50,51,52,53,54,55,56,57,58,59,60,61,62,63,64,65,66,67,68,69,70,71,72,73,74,75,76,77,78,79,80,81,82,83,84,85,86,87,88,89,90,91,92,93,94,95,96,97,98,99,100,101,102,103,104,105,106,107,108,109,110,111,112,113,114,115,116,117,118,119,120,121,122,123,124,125,126,127,128,129,130,131,132,133,134,135,136,137,138,139,140,141,142,143,144,145,146,147,148,149,150,151,152,153,154,155],\"ion_colors\":[\"#0072B2\",\"#0072B2\",\"#0072B2\",\"#0072B2\",\"#0072B2\",\"#0072B2\",\"#0072B2\",\"#0072B2\",\"#0072B2\",\"#0072B2\",\"#0072B2\",\"#0072B2\",\"#0072B2\",\"#0072B2\",\"#0072B2\",\"#0072B2\",\"#0072B2\",\"#0072B2\",\"#0072B2\",\"#0072B2\",\"#0072B2\",\"#0072B2\",\"#0072B2\",\"#0072B2\",\"#0072B2\",\"#0072B2\",\"#0072B2\",\"#0072B2\",\"#0072B2\",\"#0072B2\",\"#0072B2\",\"#0072B2\",\"#0072B2\",\"#0072B2\",\"#0072B2\",\"#0072B2\",\"#0072B2\",\"#0072B2\",\"#0072B2\",\"#0072B2\",\"#0072B2\",\"#0072B2\",\"#0072B2\",\"#0072B2\",\"#0072B2\",\"#0072B2\",\"#0072B2\",\"#0072B2\",\"#0072B2\",\"#0072B2\",\"#0072B2\",\"#0072B2\",\"#0072B2\",\"#0072B2\",\"#0072B2\",\"#0072B2\",\"#0072B2\",\"#0072B2\",\"#0072B2\",\"#0072B2\",\"#0072B2\",\"#0072B2\",\"#0072B2\",\"#0072B2\",\"#0072B2\",\"#0072B2\",\"#0072B2\",\"#0072B2\",\"#0072B2\",\"#0072B2\",\"#0072B2\",\"#0072B2\",\"#0072B2\",\"#0072B2\",\"#0072B2\",\"#0072B2\",\"#0072B2\",\"#0072B2\",\"#0072B2\",\"#0072B2\",\"#0072B2\",\"#0072B2\",\"#0072B2\",\"#0072B2\",\"#0072B2\",\"#0072B2\",\"#0072B2\",\"#0072B2\",\"#0072B2\",\"#0072B2\",\"#0072B2\",\"#0072B2\",\"#009E73\",\"#009E73\",\"#009E73\",\"#009E73\",\"#009E73\",\"#0072B2\",\"#0072B2\",\"#0072B2\",\"#0072B2\",\"#0072B2\",\"#0072B2\",\"#0072B2\",\"#0072B2\",\"#0072B2\",\"#0072B2\",\"#0072B2\",\"#0072B2\",\"#E69F00\",\"#E69F00\",\"#E69F00\",\"#E69F00\",\"#E69F00\",\"#E69F00\",\"#E69F00\",\"#E69F00\",\"#E69F00\",\"#F0E442\",\"#F0E442\",\"#F0E442\",\"#F0E442\",\"#F0E442\",\"#F0E442\",\"#0072B2\",\"#0072B2\",\"#0072B2\",\"#0072B2\",\"#0072B2\",\"#0072B2\",\"#0072B2\",\"#0072B2\",\"#0072B2\",\"#0072B2\",\"#0072B2\",\"#0072B2\",\"#0072B2\",\"#0072B2\",\"#0072B2\",\"#0072B2\",\"#0072B2\",\"#0072B2\",\"#0072B2\",\"#0072B2\",\"#0072B2\",\"#0072B2\",\"#009E73\",\"#009E73\",\"#009E73\",\"#009E73\",\"#009E73\",\"#009E73\",\"#009E73\",\"#009E73\",\"#009E73\",\"#009E73\"],\"temperature\":[25,25,25,25,25,25,25,25,25,25,25,25,25,25,25,25,25,25,25,25,25,25,25,25,25,25,25,25,25,25,25,25,25,25,25,25,25,25,25,25,25,25,25,25,25,25,25,25,25,25,25,25,25,25,25,25,25,25,25,25,25,25,25,25,25,25,25,25,25,25,25,25,25,25,25,25,25,25,25,25,25,25,25,25,25,25,25,25,25,25,25,25,25,25,25,25,25,25,25,25,50,50,50,75,75,75,100,100,100,25,25,25,25,25,25,25,25,25,25,25,25,25,25,25,25,25,25,25,25,25,25,25,25,25,25,25,25,25,25,25,25,25,25,25,25,25,25,25,25,25,25,25,25,25,25,25],\"wavelength\":{\"__ndarray__\":\"AAAAAABYg0AAAAAAAFyDQAAAAAAAXINAAAAAAABcg0AAAAAAAGCDQAAAAAAAbINAAAAAAABsg0AAAAAAAFyDQAAAAAAAZINAAAAAAABkg0AAAAAAAGyDQAAAAAAAbINAAAAAAABsg0AAAAAAAGyDQAAAAAAAbINAAAAAAAAA+H8AAAAAAAD4fwAAAAAAAPh/AAAAAAAA+H8AAAAAAAD4fwAAAAAAAPh/AAAAAAAA+H8AAAAAAAD4fwAAAAAAAPh/AAAAAAAA+H8AAAAAAAD4fwAAAAAAAPh/AAAAAAAA+H8AAAAAAAD4fwAAAAAAAPh/AAAAAAAA+H8AAAAAAAD4fwAAAAAAAPh/AAAAAAAA+H8AAAAAAAD4fwAAAAAAAPh/AAAAAAAA+H8AAAAAAAD4fwAAAAAAAPh/AAAAAAAA+H8AAAAAAAD4fwAAAAAAAPh/AAAAAAAA+H8AAAAAAAD4fwAAAAAAAPh/AAAAAAAA+H8AAAAAAAD4fwAAAAAAAPh/AAAAAAAA+H8AAAAAAAD4fwAAAAAAAPh/AAAAAAAA+H8AAAAAAAD4fwAAAAAAAPh/AAAAAAAA+H8AAAAAAAD4fwAAAAAAAPh/AAAAAAAA+H8AAAAAAAD4fwAAAAAAAPh/AAAAAAAA+H8AAAAAAAD4fwAAAAAAAPh/AAAAAAAA+H8AAAAAAAD4fwAAAAAAAPh/AAAAAAAA+H8AAAAAAAD4fwAAAAAAAPh/AAAAAAAA+H8AAAAAAAD4fwAAAAAAAPh/AAAAAAAA+H8AAAAAAAD4fwAAAAAAAPh/AAAAAAAA+H8AAAAAAAD4fwAAAAAAAPh/AAAAAAAA+H8AAAAAAAD4fwAAAAAAAPh/AAAAAAAA+H8AAAAAAAD4fwAAAAAAAPh/AAAAAAAA+H8AAAAAAAD4fwAAAAAAAPh/AAAAAAAA+H8AAAAAAAD4fwAAAAAAAPh/AAAAAAAA+H8AAAAAAAD4fwAAAAAAAPh/AAAAAAAA+H8AAAAAAAD4fwAAAAAAAPh/AAAAAAAA+H+amZmZmdWFQJqZmZmZZYNAmpmZmZm5gEDNzMzMzMiFQJqZmZmZZYNAAAAAAAC4gEAAAAAAANyFQJqZmZmZZYNAMzMzMzO7gEBmZmZmZt6FQJqZmZmZZYNAzczMzMy4gEAAAAAAAAD4fwAAAAAAAPh/AAAAAAAA+H8AAAAAAAD4fwAAAAAAAPh/AAAAAAAA+H8AAAAAAAD4fwAAAAAAAPh/AAAAAAAA+H8AAAAAAAD4fwAAAAAAAPh/AAAAAAAA+H8AAAAAAAD4fwAAAAAAAPh/AAAAAAAA+H8AAAAAAAD4fwAAAAAAAPh/AAAAAAAA+H8AAAAAAAD4fwAAAAAAAPh/AAAAAAAA+H8AAAAAAAD4fwAAAAAAAPh/AAAAAAAA+H8AAAAAAAD4fwAAAAAA8IBAAAAAAABYg0AAAAAAAOCFQAAAAAAA+IBAAAAAAABgg0AAAAAAAOCFQAAAAAAA+IBAAAAAAABgg0AAAAAAAOCFQAAAAAAA+IBAAAAAAABog0AAAAAAAOCFQM3MzMzM2IBA4XoUrkdpg0B7FK5H4dCAQFyPwvUoZoNACtejcD3OgEC4HoXrUWSDQK5H4XoUwoBASOF6FK5jg0B7FK5H4cKAQB+F61G4YoNA\",\"dtype\":\"float64\",\"shape\":[156]}}},\"id\":\"759aff1a-fba4-4e3d-ad0b-c280ddae5f06\",\"type\":\"ColumnDataSource\"},{\"attributes\":{},\"id\":\"1faad158-dee8-491f-900e-fdcfab708a94\",\"type\":\"LinearScale\"},{\"attributes\":{},\"id\":\"b80258e2-1d5c-41b1-8e87-0903464fae21\",\"type\":\"BasicTicker\"},{\"attributes\":{\"dimension\":1,\"plot\":{\"id\":\"f6e64300-04f1-4476-992c-ed9df9c87db9\",\"subtype\":\"Figure\",\"type\":\"Plot\"},\"ticker\":{\"id\":\"1db5b361-b6c4-44e0-8cc8-3470ab850e86\",\"type\":\"BasicTicker\"}},\"id\":\"4dc22a91-cf15-4023-97cb-b6fb0041a124\",\"type\":\"Grid\"},{\"attributes\":{\"data_source\":{\"id\":\"759aff1a-fba4-4e3d-ad0b-c280ddae5f06\",\"type\":\"ColumnDataSource\"},\"glyph\":{\"id\":\"7d9946f3-0652-49e3-b0cb-08b514aef70f\",\"type\":\"Circle\"},\"hover_glyph\":null,\"muted_glyph\":null,\"nonselection_glyph\":{\"id\":\"c27edb7d-6bfa-44d5-8e57-38e6b781f9d7\",\"type\":\"Circle\"},\"selection_glyph\":null},\"id\":\"c6f05b50-7133-42c6-bc64-3e098b43b8a2\",\"type\":\"GlyphRenderer\"}],\"root_ids\":[\"f6e64300-04f1-4476-992c-ed9df9c87db9\"]},\"title\":\"Bokeh Application\",\"version\":\"0.12.6\"}};\n",
       "            var render_items = [{\"docid\":\"c67fe5b0-c7e5-4cac-bceb-ab8925e17c8c\",\"elementid\":\"2d02524e-8a6b-4692-bbe4-ec9423f18dfc\",\"modelid\":\"f6e64300-04f1-4476-992c-ed9df9c87db9\"}];\n",
       "            \n",
       "            Bokeh.embed.embed_items(docs_json, render_items);\n",
       "          };\n",
       "          if (document.readyState != \"loading\") fn();\n",
       "          else document.addEventListener(\"DOMContentLoaded\", fn);\n",
       "        })();\n",
       "      },\n",
       "      function(Bokeh) {\n",
       "      }\n",
       "    ];\n",
       "  \n",
       "    function run_inline_js() {\n",
       "      \n",
       "      if ((window.Bokeh !== undefined) || (force === true)) {\n",
       "        for (var i = 0; i < inline_js.length; i++) {\n",
       "          inline_js[i](window.Bokeh);\n",
       "        }if (force === true) {\n",
       "          display_loaded();\n",
       "        }} else if (Date.now() < window._bokeh_timeout) {\n",
       "        setTimeout(run_inline_js, 100);\n",
       "      } else if (!window._bokeh_failed_load) {\n",
       "        console.log(\"Bokeh: BokehJS failed to load within specified timeout.\");\n",
       "        window._bokeh_failed_load = true;\n",
       "      } else if (force !== true) {\n",
       "        var cell = $(document.getElementById(\"2d02524e-8a6b-4692-bbe4-ec9423f18dfc\")).parents('.cell').data().cell;\n",
       "        cell.output_area.append_execute_result(NB_LOAD_WARNING)\n",
       "      }\n",
       "  \n",
       "    }\n",
       "  \n",
       "    if (window._bokeh_is_loading === 0) {\n",
       "      console.log(\"Bokeh: BokehJS loaded, going straight to plotting\");\n",
       "      run_inline_js();\n",
       "    } else {\n",
       "      load_libs(js_urls, function() {\n",
       "        console.log(\"Bokeh: BokehJS plotting callback run at\", now());\n",
       "        run_inline_js();\n",
       "      });\n",
       "    }\n",
       "  }(this));\n",
       "</script>"
      ]
     },
     "metadata": {},
     "output_type": "display_data"
    }
   ],
   "source": [
    "\n",
    "hover = HoverTool(tooltips=[\n",
    "    (\"(x,y)\", \"($x, $y)\"),\n",
    "    (\"doi\", \"@{doi}\")\n",
    "])\n",
    "\n",
    "\n",
    "fig = bk.figure(\n",
    "    title='Al ppm v. [MOH]',\n",
    "    tools=[hover],\n",
    ")\n",
    "fig.xaxis.axis_label = '[MOH]'\n",
    "fig.yaxis.axis_label = '27 Al ppm'\n",
    "fig.circle(\n",
    "    x='OH_concentration',\n",
    "    y='Al_ppm',\n",
    "    source=source,\n",
    "    color='ion_colors',\n",
    ")\n",
    "\n",
    "\n",
    "fig.background_fill_color = \"beige\"\n",
    "fig.background_fill_alpha = 0.5\n",
    "bk.show(fig)\n",
    "# save(fig, 'generated_images/Al_ppm_v_NaOH.html')"
   ]
  },
  {
   "cell_type": "code",
   "execution_count": null,
   "metadata": {
    "collapsed": true
   },
   "outputs": [],
   "source": []
  },
  {
   "cell_type": "code",
   "execution_count": null,
   "metadata": {
    "collapsed": true
   },
   "outputs": [],
   "source": []
  }
 ],
 "metadata": {
  "kernelspec": {
   "display_name": "Python 3",
   "language": "python",
   "name": "python3"
  },
  "language_info": {
   "codemirror_mode": {
    "name": "ipython",
    "version": 3
   },
   "file_extension": ".py",
   "mimetype": "text/x-python",
   "name": "python",
   "nbconvert_exporter": "python",
   "pygments_lexer": "ipython3",
   "version": "3.5.2+"
  }
 },
 "nbformat": 4,
 "nbformat_minor": 2
}
