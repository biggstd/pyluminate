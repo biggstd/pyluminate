{
 "cells": [
  {
   "cell_type": "markdown",
   "metadata": {},
   "source": [
    "# Use of ISA-Tools for Metadata\n",
    "Tyler Biggs\n",
    "Aurora Clark Laboratory\n",
    "\n",
    "Based on the recommendations from our contacts at PNNL (Nathan Baker), I have elected to use the Python API for ISA-tools to handle metadata and database organisation.\n",
    "\n",
    "## Core Entities\n",
    "\n",
    "1. **Investigation**: Records metadata related to the investigation. Links related studies under an investigation.\n",
    "2. **Study**: - Experimental Steps or sequence of events.\n",
    "3. **Assay**: - A specific instrumental measurement (in our case).\n",
    "\n",
    "## ISA-Tool Links\n",
    "\n",
    "https://isatools.readthedocs.io/en/latest/\n",
    "\n",
    "![http://isa-specs.readthedocs.io/en/latest/_images/isa_model_1_ccoded.png](attachment:image.png)"
   ]
  },
  {
   "cell_type": "markdown",
   "metadata": {
    "collapsed": true
   },
   "source": [
    "### Data files\n",
    "\n",
    "Going to generate my own child class to handle the types of data I want to store.\n",
    "\n",
    "First here is the image of the data I will be extracting:\n",
    "\n",
    "![Sipos 2006](data/sipos2006_fig2.png)\n",
    "\n",
    "**Caption**: 27 Al NMR chemical shift vs. the total concentration of NaOH (M) at var-\n",
    "ious aluminium concentrations. [Al(III)] T = 0.005 M (+); 0.050 M (); 0.100 M\n",
    "(); 0.396 M (); 0.800 M (); 1.20 M ( ); 2.00 M (); 3.00 M (×).\n",
    "\n",
    "An example block of data from this plot (the `+` points in this case):\n",
    "\n",
    "    Al(III) = 0.005 M\n",
    "    \n",
    "    [NaOH]   ppm\n",
    "    ------   -----\n",
    "     1.00    80.45\n",
    "     4.99    80.04\n",
    "     7.01    79.59\n",
    "    11.01    78.13\n",
    "    13.03    76.93\n",
    "    17.00    73.64\n",
    "    18.96    71.80\n",
    "    \n",
    "    "
   ]
  },
  {
   "cell_type": "code",
   "execution_count": 1,
   "metadata": {
    "collapsed": true
   },
   "outputs": [],
   "source": [
    "# Import the python API model\n",
    "from isatools.model.v1 import *\n",
    "\n",
    "# Import JSON for the output format.\n",
    "from isatools.isajson import ISAJSONEncoder\n",
    "import json"
   ]
  },
  {
   "cell_type": "code",
   "execution_count": 2,
   "metadata": {
    "collapsed": true
   },
   "outputs": [],
   "source": [
    "class digitizedImageData(DataFile):\n",
    "    def __init__(self, filename='', id_='', generated_from=None, comments=None):\n",
    "        super().__init__(filename=filename, id_=id_, generated_from=generated_from, comments=comments)\n",
    "        self.label = \"Plot-csv-extract\""
   ]
  },
  {
   "cell_type": "code",
   "execution_count": 3,
   "metadata": {
    "collapsed": true
   },
   "outputs": [],
   "source": [
    "# I am going to create some derivative classes of DataFile\n",
    "# to better classify how we have to import literature data.\n",
    "class spectralImage(DataFile):\n",
    "    def __init__(self, filename='', id_='', generated_from=None, comments=None):\n",
    "        super().__init__(filename=filename, id_=id_, generated_from=generated_from, comments=comments)\n",
    "        self.label = \"Plot-image\""
   ]
  },
  {
   "cell_type": "code",
   "execution_count": 4,
   "metadata": {
    "collapsed": true
   },
   "outputs": [],
   "source": [
    "# Declare the overarching investigation\n",
    "# This object ties the other entries together.\n",
    "inv = Investigation(\n",
    "    identifier=\"Al_investigation\",\n",
    "    title=\"Aluminate Investigation\",\n",
    "    description=\"An investigation into the properties of aluminate.\"\n",
    ")"
   ]
  },
  {
   "cell_type": "code",
   "execution_count": 5,
   "metadata": {
    "collapsed": true
   },
   "outputs": [],
   "source": [
    "# Define Ontology references\n",
    "# Units should be implemented as Ontology Annotations\n",
    "# Annotations should have an Ontology Source\n",
    "amount_concentration = OntologySource(name='Amount Concentration',\n",
    "                         file='https://goldbook.iupac.org/html/A/A00295.html')\n",
    "\n",
    "molarity = OntologyAnnotation(term='Molarity',\n",
    "                             term_source=amount_concentration,\n",
    "                             term_accession='https://goldbook.iupac.org/html/M/M03977.html')"
   ]
  },
  {
   "cell_type": "code",
   "execution_count": 6,
   "metadata": {
    "collapsed": true
   },
   "outputs": [],
   "source": [
    "# Declare the study of interest (divide these by what?)\n",
    "nmr_study = Study(\n",
    "    identifier=\"nmr_study\",\n",
    "    title=\"NMR Studies\",\n",
    "    description=\"27 Al NMR Spectra.\",\n",
    ")\n",
    "\n",
    "inv.studies.append(nmr_study)"
   ]
  },
  {
   "cell_type": "code",
   "execution_count": 7,
   "metadata": {
    "collapsed": true
   },
   "outputs": [],
   "source": [
    "# First it looks like we will need some Material Classes\n",
    "# Materials need an associated ontology annotation describing the material.\n",
    "\n",
    "# ONTOLOGY SOURCES\n",
    "Aluminium = OntologySource(name='Aluminium',\n",
    "                         file='https://en.wikipedia.org/wiki/Aluminium')\n",
    "\n",
    "Hydroxide = OntologySource(name='Hydroxide', \n",
    "                           file='https://en.wikipedia.org/wiki/Hydroxide')\n",
    "\n",
    "NMR = OntologySource(name='Nuclear Magentic Resonance')\n",
    "\n",
    "# ONTOLOGY ANNOTATIONS\n",
    "al_III = OntologyAnnotation(term='Al(III)',\n",
    "                            term_source=Aluminium, \n",
    "                            term_accession='https://en.wikipedia.org/wiki/Aluminate')\n",
    "\n",
    "Sodium_Hydroxide = OntologyAnnotation(term='Sodium Hydroxide', \n",
    "                          term_source=Hydroxide, \n",
    "                          term_accession='https://en.wikipedia.org/wiki/Sodium_hydroxide')\n",
    "\n",
    "ppm = OntologyAnnotation(term=\"ppm\", term_source=NMR)\n",
    "\n",
    "Al27_NMR = OntologyAnnotation(term=\"27 Al NMR\",\n",
    "                             term_source=NMR)"
   ]
  },
  {
   "cell_type": "code",
   "execution_count": 8,
   "metadata": {
    "collapsed": true
   },
   "outputs": [],
   "source": [
    "# The assay represents a test preformed on a material.\n",
    "# Data files that an assay produces should be linked here.\n",
    "sipos_nmr_assay = Assay(\n",
    "    measurement_type=ppm,\n",
    "    technology_type=Al27_NMR,\n",
    "    technology_platform=\"Bruker\",\n",
    "    units=[ppm, molarity],)"
   ]
  },
  {
   "cell_type": "code",
   "execution_count": 10,
   "metadata": {
    "collapsed": true
   },
   "outputs": [],
   "source": [
    "# Append the materials to the assay\n",
    "# sipos_nmr_assay.materials['samples'].append(NaOH)\n",
    "# sipos_nmr_assay.materials['samples'].append(Al_III)"
   ]
  },
  {
   "cell_type": "code",
   "execution_count": 11,
   "metadata": {
    "collapsed": true
   },
   "outputs": [],
   "source": [
    "sipos_2006_publication = Publication(\n",
    "    title=\"\\ce{^{27}Al} NMR and Raman spectroscopic studies of alkaline aluminate\\\n",
    "    solutions with extremely high caustic content\\\n",
    "    - Does the octahedral species \\ce{Al(OH)6^{-3}} exist in solution?\",\n",
    "    doi=\"10.1016/j.talanta.2006.02.008\")"
   ]
  },
  {
   "cell_type": "code",
   "execution_count": 12,
   "metadata": {
    "collapsed": true
   },
   "outputs": [],
   "source": [
    "# Now create an instance of the spectralImage:\n",
    "sipos2006fig2 = spectralImage(filename=\"data/sipos2006_fig2.png\")"
   ]
  },
  {
   "cell_type": "code",
   "execution_count": 13,
   "metadata": {
    "collapsed": true
   },
   "outputs": [],
   "source": [
    "# Now a data entry.\n",
    "sipos2006data = digitizedImageData(filename=\"data/sipos2006-fig2.csv\")"
   ]
  },
  {
   "cell_type": "code",
   "execution_count": 14,
   "metadata": {
    "collapsed": true
   },
   "outputs": [],
   "source": [
    "# Append the data file to the assay\n",
    "sipos_nmr_assay.data_files.append(sipos2006fig2)\n",
    "sipos_nmr_assay.data_files.append(sipos2006data)"
   ]
  },
  {
   "cell_type": "code",
   "execution_count": 15,
   "metadata": {
    "collapsed": true
   },
   "outputs": [],
   "source": [
    "# Append the assay to the study.\n",
    "nmr_study.assays.append(sipos_nmr_assay)"
   ]
  },
  {
   "cell_type": "code",
   "execution_count": 16,
   "metadata": {
    "collapsed": true,
    "scrolled": false
   },
   "outputs": [],
   "source": [
    "# Create the .json output.\n",
    "nmr_meta = json.dumps(inv, cls=ISAJSONEncoder, sort_keys=True, indent=4, separators=(',', ': '))"
   ]
  },
  {
   "cell_type": "code",
   "execution_count": 17,
   "metadata": {
    "collapsed": true
   },
   "outputs": [],
   "source": [
    "import json"
   ]
  },
  {
   "cell_type": "code",
   "execution_count": 18,
   "metadata": {
    "collapsed": true
   },
   "outputs": [],
   "source": [
    "meta = json.loads(nmr_meta)\n",
    "# Things to pull out:\n",
    "#    + DOI / Paper title\n",
    "#    + Author?\n",
    "#    +"
   ]
  },
  {
   "cell_type": "code",
   "execution_count": 19,
   "metadata": {},
   "outputs": [
    {
     "data": {
      "text/plain": [
       "[{'@id': '#data/plot-image-139674527129328',\n",
       "  'comments': [],\n",
       "  'name': 'data/sipos2006_fig2.png',\n",
       "  'type': 'Plot-image'},\n",
       " {'@id': '#data/plot-csv-extract-139674527129104',\n",
       "  'comments': [],\n",
       "  'name': 'data/sipos2006-fig2.csv',\n",
       "  'type': 'Plot-csv-extract'}]"
      ]
     },
     "execution_count": 19,
     "metadata": {},
     "output_type": "execute_result"
    }
   ],
   "source": [
    "meta['studies'][0]['assays'][0]['dataFiles'][:]"
   ]
  },
  {
   "cell_type": "code",
   "execution_count": 20,
   "metadata": {},
   "outputs": [
    {
     "data": {
      "text/plain": [
       "[{'characteristicCategories': [],\n",
       "  'comments': [],\n",
       "  'dataFiles': [{'@id': '#data/plot-image-139674527129328',\n",
       "    'comments': [],\n",
       "    'name': 'data/sipos2006_fig2.png',\n",
       "    'type': 'Plot-image'},\n",
       "   {'@id': '#data/plot-csv-extract-139674527129104',\n",
       "    'comments': [],\n",
       "    'name': 'data/sipos2006-fig2.csv',\n",
       "    'type': 'Plot-csv-extract'}],\n",
       "  'filename': '',\n",
       "  'materials': {'otherMaterials': [], 'samples': []},\n",
       "  'measurementType': {'@id': '#139674527126752',\n",
       "   'annotationValue': 'ppm',\n",
       "   'termAccession': '',\n",
       "   'termSource': 'Nuclear Magentic Resonance'},\n",
       "  'processSequence': [],\n",
       "  'technologyPlatform': 'Bruker',\n",
       "  'technologyType': {'@id': '#139674527126920',\n",
       "   'annotationValue': '27 Al NMR',\n",
       "   'termAccession': '',\n",
       "   'termSource': 'Nuclear Magentic Resonance'},\n",
       "  'unitCategories': [{'@id': '#139674527126752',\n",
       "    'annotationValue': 'ppm',\n",
       "    'termAccession': '',\n",
       "    'termSource': 'Nuclear Magentic Resonance'},\n",
       "   {'@id': '#139674527129160',\n",
       "    'annotationValue': 'Molarity',\n",
       "    'termAccession': 'https://goldbook.iupac.org/html/M/M03977.html',\n",
       "    'termSource': 'Amount Concentration'}]}]"
      ]
     },
     "execution_count": 20,
     "metadata": {},
     "output_type": "execute_result"
    }
   ],
   "source": [
    "meta['studies'][0]['assays']"
   ]
  },
  {
   "cell_type": "code",
   "execution_count": null,
   "metadata": {
    "collapsed": true
   },
   "outputs": [],
   "source": [
    "meta"
   ]
  },
  {
   "cell_type": "code",
   "execution_count": null,
   "metadata": {
    "collapsed": true
   },
   "outputs": [],
   "source": [
    ""
   ]
  }
 ],
 "metadata": {
  "kernelspec": {
   "display_name": "Python 3",
   "language": "python",
   "name": "python3"
  },
  "language_info": {
   "codemirror_mode": {
    "name": "ipython",
    "version": 3.0
   },
   "file_extension": ".py",
   "mimetype": "text/x-python",
   "name": "python",
   "nbconvert_exporter": "python",
   "pygments_lexer": "ipython3",
   "version": "3.5.2+"
  }
 },
 "nbformat": 4,
 "nbformat_minor": 0
}