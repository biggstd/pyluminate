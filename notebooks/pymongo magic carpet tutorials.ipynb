{
 "cells": [
  {
   "cell_type": "markdown",
   "metadata": {},
   "source": [
    "### Setup\n",
    "\n",
    "Start the MongoDB service.\n",
    "\n",
    "```\n",
    "sudo service mongod start\n",
    "```\n",
    "\n",
    "Remember that Python has a database API defined in [PEP 249](https://www.python.org/dev/peps/pep-0249/).\n",
    "\n",
    "Follow along with the [tutorial](http://api.mongodb.com/python/current/tutorial.html)."
   ]
  },
  {
   "cell_type": "code",
   "execution_count": 3,
   "metadata": {},
   "outputs": [],
   "source": [
    "import json\n",
    "import os\n",
    "from isatools.model import *\n",
    "from isatools.isajson import ISAJSONEncoder"
   ]
  },
  {
   "cell_type": "code",
   "execution_count": 4,
   "metadata": {},
   "outputs": [
    {
     "ename": "NameError",
     "evalue": "name 'pymongo' is not defined",
     "output_type": "error",
     "traceback": [
      "\u001b[0;31m---------------------------------------------------------------------------\u001b[0m",
      "\u001b[0;31mNameError\u001b[0m                                 Traceback (most recent call last)",
      "\u001b[0;32m<ipython-input-4-b8c84456bf4a>\u001b[0m in \u001b[0;36m<module>\u001b[0;34m()\u001b[0m\n\u001b[1;32m      1\u001b[0m \u001b[0;31m# define the client\u001b[0m\u001b[0;34m\u001b[0m\u001b[0;34m\u001b[0m\u001b[0m\n\u001b[1;32m      2\u001b[0m \u001b[0;31m# connects to the default host and port\u001b[0m\u001b[0;34m\u001b[0m\u001b[0;34m\u001b[0m\u001b[0m\n\u001b[0;32m----> 3\u001b[0;31m \u001b[0mclient\u001b[0m \u001b[0;34m=\u001b[0m \u001b[0mpymongo\u001b[0m\u001b[0;34m.\u001b[0m\u001b[0mMongoClient\u001b[0m\u001b[0;34m(\u001b[0m\u001b[0;34m)\u001b[0m\u001b[0;34m\u001b[0m\u001b[0m\n\u001b[0m",
      "\u001b[0;31mNameError\u001b[0m: name 'pymongo' is not defined"
     ]
    }
   ],
   "source": [
    "# define the client\n",
    "# connects to the default host and port\n",
    "client = pymongo.MongoClient()"
   ]
  },
  {
   "cell_type": "code",
   "execution_count": 5,
   "metadata": {},
   "outputs": [
    {
     "ename": "NameError",
     "evalue": "name 'client' is not defined",
     "output_type": "error",
     "traceback": [
      "\u001b[0;31m---------------------------------------------------------------------------\u001b[0m",
      "\u001b[0;31mNameError\u001b[0m                                 Traceback (most recent call last)",
      "\u001b[0;32m<ipython-input-5-b7f9d4b7df9c>\u001b[0m in \u001b[0;36m<module>\u001b[0;34m()\u001b[0m\n\u001b[1;32m      1\u001b[0m \u001b[0;31m# get (or create?) a database\u001b[0m\u001b[0;34m\u001b[0m\u001b[0;34m\u001b[0m\u001b[0m\n\u001b[0;32m----> 2\u001b[0;31m \u001b[0mdb\u001b[0m \u001b[0;34m=\u001b[0m \u001b[0mclient\u001b[0m\u001b[0;34m.\u001b[0m\u001b[0mtest_database\u001b[0m\u001b[0;34m\u001b[0m\u001b[0m\n\u001b[0m\u001b[1;32m      3\u001b[0m \u001b[0;34m\u001b[0m\u001b[0m\n\u001b[1;32m      4\u001b[0m \u001b[0;31m# dictionary style access works as well:\u001b[0m\u001b[0;34m\u001b[0m\u001b[0;34m\u001b[0m\u001b[0m\n\u001b[1;32m      5\u001b[0m \u001b[0;31m# db = client['test-database']\u001b[0m\u001b[0;34m\u001b[0m\u001b[0;34m\u001b[0m\u001b[0m\n",
      "\u001b[0;31mNameError\u001b[0m: name 'client' is not defined"
     ]
    }
   ],
   "source": [
    "# get (or create?) a database\n",
    "db = client.test_database\n",
    "\n",
    "# dictionary style access works as well:\n",
    "# db = client['test-database']"
   ]
  },
  {
   "cell_type": "markdown",
   "metadata": {},
   "source": [
    "### Saving a .json document\n",
    "\n",
    "This is also a python script, for simplicity I pasted it in the cell below."
   ]
  },
  {
   "cell_type": "code",
   "execution_count": 8,
   "metadata": {},
   "outputs": [
    {
     "ename": "SyntaxError",
     "evalue": "invalid syntax (<ipython-input-8-35caddef9543>, line 48)",
     "output_type": "error",
     "traceback": [
      "\u001b[0;36m  File \u001b[0;32m\"<ipython-input-8-35caddef9543>\"\u001b[0;36m, line \u001b[0;32m48\u001b[0m\n\u001b[0;31m    inv.ontology_source_references.append(extrinsic_properties)\u001b[0m\n\u001b[0m      ^\u001b[0m\n\u001b[0;31mSyntaxError\u001b[0m\u001b[0;31m:\u001b[0m invalid syntax\n"
     ]
    }
   ],
   "source": [
    "def create_ISA_json():\n",
    "    \"\"\"\n",
    "    Creates a simple ISA json and saves it to the local directory.\n",
    "    \"\"\"\n",
    "\n",
    "    def join_path(filename):\n",
    "        file_path = os.path.join(data_path, filename)\n",
    "        return file_path\n",
    "\n",
    "    # INVESTIGATION\n",
    "    inv = Investigation()\n",
    "    inv.identifier = \"IDREAM_Aluminate\"\n",
    "    inv.title = \"IDREAM Aluminate Database\"\n",
    "    inv.description = (\n",
    "        \"A database for the IDREAM project that stores \"\n",
    "        \"data needed for IDREAM researchers. It stores literature \"\n",
    "        \"data, experimental and simulation data, along with \"\n",
    "        \"any associated metadata.\")\n",
    "    \n",
    "    \n",
    "    # ONTOLOGY SOURCES\n",
    "    \n",
    "    nmr = OntologySource(\n",
    "        name='Nuclear Magnetic Resonance',\n",
    "        description=\"Concepts related to NMR experiments.\")\n",
    "    \n",
    "    inv.ontology_source_references.append(nmr)\n",
    "    \n",
    "    \n",
    "    amnt_conc = OntologySource(\n",
    "        name='Amount Concentration',\n",
    "        description='Abstraction for different amount concentrations.')\n",
    "    \n",
    "    inv.ontology_source_references.append(amnt_conc)\n",
    "    \n",
    "    \n",
    "    intrinsic_properties = OntologySource(\n",
    "        name='Intrinsic Material Property',\n",
    "        description=('Propertiy of a material that are independent of other context and other things.'))\n",
    "        \n",
    "    inv.ontology_source_references.append(intrinsic_properties)\n",
    "    \n",
    "\n",
    "    extrinsic_properties =  OntologySource(\n",
    "        name='Extrinsic Material Property',\n",
    "        description=('Property of a material that is dependent on context and relationships.')\n",
    "    \n",
    "    inv.ontology_source_references.append(extrinsic_properties)\n",
    "    \n",
    "        \n",
    "    # ONOTOLOGY ANNOTATIONS\n",
    "        \n",
    "    ppm = OntologyAnnotation(term_source=nmr)\n",
    "    ppm.term = \"ppm\"\n",
    "    \n",
    "    al_27_nmr = OntologyAnnotation(term_source=nmr)\n",
    "    al_27_nmr.term = \"27 Al NMR\"\n",
    "    \n",
    "    molarity = OntologyAnnotation(term_source=amnt_conc)\n",
    "    molarity.term = \"Molarity\"\n",
    "        \n",
    "    material_purity = OntologyAnnotation(term_source=extrinsic_properties)\n",
    "    material_purity.term = \"Material Purity\"\n",
    "            \n",
    "        \n",
    "    # MATERIAL SOURCES\n",
    "        \n",
    "    al_source = Source(name='Aluminum Wire')\n",
    "\n",
    "    sodium_hydroxide = Source(name='Sodium Hydroxide')\n",
    "#     sodium_hydroxide.characteristics.append()\n",
    "        \n",
    "    potassium_hydroxide = Source(name='Potassium Hydroxide')\n",
    "        \n",
    "    lithium_hydroxide = Source(name='Lithium Hydroxide')\n",
    "        \n",
    "    \n",
    "    # STUDY FACTORS\n",
    "        \n",
    "    weight_percent_material_purity = StudyFactor(name='Material Weight Percenty Purity')\n",
    "    weight_percent_material_purity.factor_type = material_purity\n",
    "\n",
    "        \n",
    "    # MATERIAL SAMPLES\n",
    "    \n",
    "    sodium_aluminate_soln = Sample()\n",
    "    sodium_aluminate_soln.name = \"The sodium solution used in sipos 2006.\"\n",
    "    # Set the derives_from list to include all the source materials used.\n",
    "    sodium_aluminate_soln.derives_from = [al_source, sodium_hydroxide]\n",
    "    # Now include factors to track the instance p roperties?\n",
    "    sodium_aluminate_soln.factor_values.append(\n",
    "        FactorValue(name=)\n",
    "    )\n",
    "        \n",
    "    # STUDY\n",
    "        \n",
    "    stu = Study()\n",
    "    stu.identifier = \"Sipos 2006 NMR Study\"\n",
    "    stu.title = \"Sipos 2006 NMR Study  Figure 2\"\n",
    "    stu.description = \"Test study for Sipos' 2006 NMR study.\"\n",
    "    stu.design_descriptors.append(ppm)\n",
    "        \n",
    "    stu.sources.append(sodium_aluminate_soln)\n",
    "        \n",
    "    stu.units = [ppm, molarity]\n",
    "        \n",
    "    stu.factors = [StudyFactor(factor_type=molarity)]\n",
    "    \n",
    "    inv.studies.append(stu)\n",
    "    \n",
    "        \n",
    "    assay = Assay()\n",
    "    assay.measurement_type = ppm\n",
    "    assay.technology_type = al_27_nmr\n",
    "    assay.technology_platform = \"Bruker DPX 300MHz\"\n",
    "    assay.samples = []\n",
    "\n",
    "    metadata_json = json.dumps(inv, cls=ISAJSONEncoder,\n",
    "        sort_keys=True, indent=4, separators=(',', ':'))\n",
    "\n",
    "    return metadata_json"
   ]
  },
  {
   "cell_type": "code",
   "execution_count": 9,
   "metadata": {
    "scrolled": false
   },
   "outputs": [
    {
     "ename": "NameError",
     "evalue": "name 'create_ISA_json' is not defined",
     "output_type": "error",
     "traceback": [
      "\u001b[0;31m---------------------------------------------------------------------------\u001b[0m",
      "\u001b[0;31mNameError\u001b[0m                                 Traceback (most recent call last)",
      "\u001b[0;32m<ipython-input-9-89b566df89bc>\u001b[0m in \u001b[0;36m<module>\u001b[0;34m()\u001b[0m\n\u001b[0;32m----> 1\u001b[0;31m \u001b[0mprint\u001b[0m\u001b[0;34m(\u001b[0m\u001b[0mcreate_ISA_json\u001b[0m\u001b[0;34m(\u001b[0m\u001b[0;34m)\u001b[0m\u001b[0;34m)\u001b[0m\u001b[0;34m\u001b[0m\u001b[0m\n\u001b[0m",
      "\u001b[0;31mNameError\u001b[0m: name 'create_ISA_json' is not defined"
     ]
    }
   ],
   "source": [
    "print(create_ISA_json())"
   ]
  },
  {
   "cell_type": "code",
   "execution_count": 67,
   "metadata": {},
   "outputs": [
    {
     "name": "stdout",
     "output_type": "stream",
     "text": [
      "<class 'dict'>\n"
     ]
    }
   ],
   "source": [
    "# load the saved .json file as a dictionary.\n",
    "isa_document = json.loads(create_ISA_json())\n",
    "print(type(isa_document))"
   ]
  },
  {
   "cell_type": "code",
   "execution_count": 68,
   "metadata": {},
   "outputs": [],
   "source": [
    "# Create a collection -- equivalent of a table\n",
    "al_collection = db.al_collection"
   ]
  },
  {
   "cell_type": "code",
   "execution_count": 69,
   "metadata": {},
   "outputs": [],
   "source": [
    "# Insert a document using the insert_one() method.\n",
    "insert_doc = al_collection.insert_one(isa_document)\n",
    "# Insert_one returns a InsertOneResult object."
   ]
  },
  {
   "cell_type": "code",
   "execution_count": 70,
   "metadata": {},
   "outputs": [
    {
     "name": "stdout",
     "output_type": "stream",
     "text": [
      "<pymongo.results.InsertOneResult object at 0x7f33d7225c48>\n"
     ]
    }
   ],
   "source": [
    "print(insert_doc)"
   ]
  },
  {
   "cell_type": "code",
   "execution_count": 73,
   "metadata": {},
   "outputs": [
    {
     "data": {
      "text/plain": [
       "{'_id': ObjectId('5a0a164082d48e056ab5139a'),\n",
       " 'comments': [],\n",
       " 'description': 'A longer description that describes the ISA document in question. It could go on for quite some time, and cover several lines.',\n",
       " 'identifier': 'Investigation identifier',\n",
       " 'ontologySourceReferences': [{'description': 'Ontology for Investigations',\n",
       "   'file': '',\n",
       "   'name': 'OBI',\n",
       "   'version': ''}],\n",
       " 'people': [],\n",
       " 'publicReleaseDate': '',\n",
       " 'publications': [],\n",
       " 'studies': [{'assays': [],\n",
       "   'characteristicCategories': [],\n",
       "   'comments': [],\n",
       "   'description': 'My ISA study description.',\n",
       "   'factors': [],\n",
       "   'filename': '',\n",
       "   'identifier': 'studyID',\n",
       "   'materials': {'otherMaterials': [],\n",
       "    'samples': [],\n",
       "    'sources': [{'@id': '#source/139860634543328',\n",
       "      'characteristics': [],\n",
       "      'name': 'source_material'}]},\n",
       "   'people': [],\n",
       "   'processSequence': [],\n",
       "   'protocols': [],\n",
       "   'publicReleaseDate': '',\n",
       "   'publications': [],\n",
       "   'studyDesignDescriptors': [{'@id': '#139860634543160',\n",
       "     'annotationValue': 'intervention design',\n",
       "     'termAccession': '',\n",
       "     'termSource': 'OBI'}],\n",
       "   'submissionDate': '',\n",
       "   'title': 'My ISA Study',\n",
       "   'unitCategories': []}],\n",
       " 'submissionDate': '',\n",
       " 'title': 'Ttitle of the Investigation'}"
      ]
     },
     "execution_count": 73,
     "metadata": {},
     "output_type": "execute_result"
    }
   ],
   "source": [
    "al_collection.find_one()"
   ]
  },
  {
   "cell_type": "code",
   "execution_count": null,
   "metadata": {},
   "outputs": [],
   "source": []
  }
 ],
 "metadata": {
  "kernelspec": {
   "display_name": "Python 3",
   "language": "python",
   "name": "python3"
  },
  "language_info": {
   "codemirror_mode": {
    "name": "ipython",
    "version": 3
   },
   "file_extension": ".py",
   "mimetype": "text/x-python",
   "name": "python",
   "nbconvert_exporter": "python",
   "pygments_lexer": "ipython3",
   "version": "3.5.2"
  }
 },
 "nbformat": 4,
 "nbformat_minor": 2
}
